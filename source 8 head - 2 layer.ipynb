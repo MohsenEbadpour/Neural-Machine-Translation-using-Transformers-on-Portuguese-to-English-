{
  "cells": [
    {
      "cell_type": "code",
      "execution_count": 3,
      "metadata": {
        "id": "eOX9pnYR8thF"
      },
      "outputs": [],
      "source": [
        "import numpy as np \n",
        "import tensorflow as tf \n",
        "from tensorflow import keras \n",
        "import matplotlib.pyplot as plt \n",
        "import seaborn as sns \n",
        "import tensorflow_datasets as tfds \n",
        "import time\n",
        "import logging\n",
        "import time\n",
        "\n",
        "import numpy as np\n",
        "import matplotlib.pyplot as plt\n",
        "\n",
        "import tensorflow_datasets as tfds\n",
        "import tensorflow as tf\n",
        "# Import tf_text to load the ops used by the tokenizer saved model\n",
        "import tensorflow_text  # pylint: disable=unused-import"
      ]
    },
    {
      "cell_type": "markdown",
      "metadata": {},
      "source": [
        "# Loading dataset and preprocess"
      ]
    },
    {
      "cell_type": "markdown",
      "metadata": {
        "id": "2gCaeO1_8thI"
      },
      "source": [
        "### Loading dataset "
      ]
    },
    {
      "cell_type": "code",
      "execution_count": 4,
      "metadata": {
        "id": "2Hzv3C8M8thK"
      },
      "outputs": [],
      "source": [
        "split = ['train[:5%]', 'test','validation']\n",
        "examples, metadata = tfds.load('ted_hrlr_translate/pt_to_en', with_info=True,\n",
        "                               as_supervised=True)\n",
        "\n",
        "train_examples, val_examples, test_examples = examples['train'], examples['validation'], examples['test']\n"
      ]
    },
    {
      "cell_type": "markdown",
      "metadata": {},
      "source": [
        "### Loading tokenizers"
      ]
    },
    {
      "cell_type": "code",
      "execution_count": 5,
      "metadata": {
        "id": "r6888kjw8thL"
      },
      "outputs": [],
      "source": [
        "model_name = 'ted_hrlr_translate_pt_en_converter'\n",
        "tf.keras.utils.get_file(f'{model_name}.zip', f'https://storage.googleapis.com/download.tensorflow.org/models/{model_name}.zip',cache_dir='.', cache_subdir='', extract=True)\n",
        "tokenizers = tf.saved_model.load(model_name)"
      ]
    },
    {
      "cell_type": "code",
      "execution_count": 6,
      "metadata": {
        "colab": {
          "base_uri": "https://localhost:8080/",
          "height": 298
        },
        "id": "3hyplzuC8thM",
        "outputId": "ae9a7472-571b-451e-837b-cc21f2639c17"
      },
      "outputs": [
        {
          "data": {
            "image/png": "[encoded data removed]",
            "text/plain": [
              "<Figure size 432x288 with 1 Axes>"
            ]
          },
          "metadata": {
            "needs_background": "light"
          },
          "output_type": "display_data"
        }
      ],
      "source": [
        "sns.set_style(\"darkgrid\")\n",
        "plt.rcParams[\"figure.figsize\"] = (8, 6)\n",
        "\n",
        "lengths = []\n",
        "for pt_examples, en_examples in train_examples.batch(1024):\n",
        "  pt_tokens = tokenizers.en.tokenize(pt_examples)\n",
        "  lengths.append(pt_tokens.row_lengths())\n",
        "\n",
        "  en_tokens = tokenizers.en.tokenize(en_examples)\n",
        "  lengths.append(en_tokens.row_lengths())\n",
        "  all_lengths = np.concatenate(lengths)\n",
        "\n",
        "plt.hist(all_lengths, np.linspace(0, 500, 101))\n",
        "plt.ylim(plt.ylim())\n",
        "max_length = max(all_lengths)\n",
        "plt.plot([max_length, max_length], plt.ylim(),color=\"red\")\n",
        "plt.title(f'Max tokens per example: {max_length}')\n",
        "plt.ylabel(\"#Frequency\")\n",
        "plt.xlabel(\"Count of token in Sequence\")\n",
        "plt.show()\n"
      ]
    },
    {
      "cell_type": "markdown",
      "metadata": {},
      "source": [
        "### Global static variables for batching"
      ]
    },
    {
      "cell_type": "code",
      "execution_count": 7,
      "metadata": {
        "id": "LWNetgzV8thO"
      },
      "outputs": [],
      "source": [
        "MAX_TOKENS = 128 ### based on above chart\n",
        "BUFFER_SIZE = 20000\n",
        "BATCH_SIZE = 128"
      ]
    },
    {
      "cell_type": "markdown",
      "metadata": {},
      "source": [
        "### Batching dataset"
      ]
    },
    {
      "cell_type": "code",
      "execution_count": 8,
      "metadata": {
        "id": "EOtgoXGb8thP"
      },
      "outputs": [],
      "source": [
        "def filter_max_tokens(pt, en):\n",
        "    num_tokens = tf.maximum(tf.shape(pt)[1],tf.shape(en)[1])\n",
        "    return num_tokens < MAX_TOKENS\n",
        "\n",
        "def tokenize_pairs(pt, en):\n",
        "    pt = tokenizers.pt.tokenize(pt)\n",
        "    pt = pt.to_tensor()\n",
        "    en = tokenizers.en.tokenize(en)\n",
        "    en = en.to_tensor()\n",
        "    return pt, en\n",
        "\n",
        "def generate_batches(dataset):\n",
        "    return (\n",
        "      dataset\n",
        "      .cache()\n",
        "      .shuffle(BUFFER_SIZE)\n",
        "      .batch(BATCH_SIZE)\n",
        "      .map(tokenize_pairs, num_parallel_calls=tf.data.AUTOTUNE)\n",
        "      .filter(filter_max_tokens)\n",
        "      .prefetch(tf.data.AUTOTUNE))\n",
        "\n",
        "\n",
        "train_batches = generate_batches(train_examples)\n",
        "val_batches = generate_batches(val_examples)\n",
        "test_batches = generate_batches(test_examples)\n"
      ]
    },
    {
      "cell_type": "markdown",
      "metadata": {},
      "source": [
        "### Positional embedding"
      ]
    },
    {
      "cell_type": "code",
      "execution_count": 9,
      "metadata": {
        "id": "bul-L3A68thP"
      },
      "outputs": [],
      "source": [
        "def get_angles(pos, i, d_model):\n",
        "    angle_rates = 1 / np.power(10000, (2 * (i//2)) / np.float32(d_model))\n",
        "    return pos * angle_rates\n",
        "\n",
        "def positional_encoding(position, d_model):\n",
        "    angle_rads = get_angles(np.arange(position)[:, np.newaxis],\n",
        "                          np.arange(d_model)[np.newaxis, :],\n",
        "                          d_model)\n",
        "\n",
        "    angle_rads[:, 0::2] = np.sin(angle_rads[:, 0::2])\n",
        "    angle_rads[:, 1::2] = np.cos(angle_rads[:, 1::2])\n",
        "    pos_encoding = angle_rads[np.newaxis, ...]\n",
        "\n",
        "    return tf.cast(pos_encoding, dtype=tf.float32)"
      ]
    },
    {
      "cell_type": "markdown",
      "metadata": {},
      "source": [
        "### Maskikng the attentions"
      ]
    },
    {
      "cell_type": "code",
      "execution_count": 10,
      "metadata": {
        "id": "JrB9d6NE8thR"
      },
      "outputs": [],
      "source": [
        "def create_padding_mask(seq):\n",
        "    seq = tf.cast(tf.math.equal(seq, 0), tf.float32)\n",
        "    return seq[:, tf.newaxis, tf.newaxis, :] \n",
        "\n",
        "\n",
        "def create_look_ahead_mask(size):\n",
        "    mask = 1 - tf.linalg.band_part(tf.ones((size, size)), -1, 0)\n",
        "    return mask "
      ]
    },
    {
      "cell_type": "markdown",
      "metadata": {},
      "source": [
        "# Attention Implementation"
      ]
    },
    {
      "cell_type": "markdown",
      "metadata": {},
      "source": [
        "### Attention weights"
      ]
    },
    {
      "cell_type": "code",
      "execution_count": 11,
      "metadata": {
        "id": "KLU2wQ748thR"
      },
      "outputs": [],
      "source": [
        "def scaled_dot_product_attention(q, k, v, mask):\n",
        "        matmul_qk = tf.matmul(q, k, transpose_b=True) \n",
        "\n",
        "\n",
        "        dk = tf.cast(tf.shape(k)[-1], tf.float32)\n",
        "        scaled_attention_logits = matmul_qk / tf.math.sqrt(dk)\n",
        "\n",
        "        if mask is not None:\n",
        "            scaled_attention_logits += (mask * -1e9)\n",
        "\n",
        "        attention_weights = tf.nn.softmax(scaled_attention_logits, axis=-1)  # (..., seq_len_q, seq_len_k)\n",
        "\n",
        "        output = tf.matmul(attention_weights, v)  # (..., seq_len_q, depth_v)\n",
        "\n",
        "        return output, attention_weights"
      ]
    },
    {
      "cell_type": "markdown",
      "metadata": {},
      "source": [
        "### Multi-Head Attention"
      ]
    },
    {
      "cell_type": "code",
      "execution_count": 12,
      "metadata": {
        "id": "lmyt1ma08thS"
      },
      "outputs": [],
      "source": [
        "class MultiHeadAttention(tf.keras.layers.Layer):\n",
        "    def __init__(self,*, d_model, num_heads):\n",
        "        super(MultiHeadAttention, self).__init__()\n",
        "        self.num_heads = num_heads\n",
        "        self.d_model = d_model\n",
        "\n",
        "        assert d_model % self.num_heads == 0\n",
        "\n",
        "        self.depth = d_model // self.num_heads\n",
        "\n",
        "        self.wq = tf.keras.layers.Dense(d_model)\n",
        "        self.wk = tf.keras.layers.Dense(d_model)\n",
        "        self.wv = tf.keras.layers.Dense(d_model)\n",
        "\n",
        "        self.dense = tf.keras.layers.Dense(d_model)\n",
        "\n",
        "    def split_heads(self, x, batch_size):\n",
        "        x = tf.reshape(x, (batch_size, -1, self.num_heads, self.depth))\n",
        "        return tf.transpose(x, perm=[0, 2, 1, 3])\n",
        "\n",
        "    def call(self, v, k, q, mask):\n",
        "        batch_size = tf.shape(q)[0]\n",
        "\n",
        "        q = self.wq(q)  \n",
        "        k = self.wk(k) \n",
        "        v = self.wv(v)  \n",
        "\n",
        "        q = self.split_heads(q, batch_size)  \n",
        "        k = self.split_heads(k, batch_size) \n",
        "        v = self.split_heads(v, batch_size) \n",
        "\n",
        "\n",
        "        scaled_attention, attention_weights = scaled_dot_product_attention(q, k, v, mask)\n",
        "\n",
        "        scaled_attention = tf.transpose(scaled_attention, perm=[0, 2, 1, 3])  \n",
        "\n",
        "        concat_attention = tf.reshape(scaled_attention,(batch_size, -1, self.d_model))  \n",
        "        output = self.dense(concat_attention)  \n",
        "\n",
        "        return output, attention_weights"
      ]
    },
    {
      "cell_type": "markdown",
      "metadata": {},
      "source": [
        "# Transformer Implementations"
      ]
    },
    {
      "cell_type": "markdown",
      "metadata": {},
      "source": [
        "### Feed forward network"
      ]
    },
    {
      "cell_type": "code",
      "execution_count": 13,
      "metadata": {
        "id": "qkd1CJdF8thT"
      },
      "outputs": [],
      "source": [
        "def point_wise_feed_forward_network(d_model, dff):\n",
        "    model = keras.models.Sequential()\n",
        "    model.add(keras.layers.Dense(dff, activation='relu')) # (batch_size, seq_len, dff)\n",
        "    model.add(tf.keras.layers.Dense(d_model)) # (batch_size, seq_len, d_model)\n",
        "    return model "
      ]
    },
    {
      "cell_type": "markdown",
      "metadata": {},
      "source": [
        "### Encoder Implementation"
      ]
    },
    {
      "cell_type": "code",
      "execution_count": 14,
      "metadata": {
        "id": "MM_4MI6e8thT"
      },
      "outputs": [],
      "source": [
        "class EncoderLayer(tf.keras.layers.Layer):\n",
        "    def __init__(self,*, d_model, num_heads, dff, rate=0.1):\n",
        "        super(EncoderLayer, self).__init__()\n",
        "        self.mha = MultiHeadAttention(d_model=d_model, num_heads=num_heads)\n",
        "        self.ffn = point_wise_feed_forward_network(d_model, dff)\n",
        "        \n",
        "        self.layernorm1 = tf.keras.layers.LayerNormalization(epsilon=1e-6)\n",
        "        self.layernorm2 = tf.keras.layers.LayerNormalization(epsilon=1e-6)\n",
        "\n",
        "        self.dropout1 = tf.keras.layers.Dropout(rate)\n",
        "        self.dropout2 = tf.keras.layers.Dropout(rate)\n",
        "\n",
        "    def call(self, x, training, mask):\n",
        "        attn_output, _ = self.mha(x, x, x, mask)  # (batch_size, input_seq_len, d_model)\n",
        "        attn_output = self.dropout1(attn_output, training=training)\n",
        "        out1 = self.layernorm1(x + attn_output)  # (batch_size, input_seq_len, d_model)\n",
        "\n",
        "        ffn_output = self.ffn(out1)  # (batch_size, input_seq_len, d_model)\n",
        "        ffn_output = self.dropout2(ffn_output, training=training)\n",
        "        out2 = self.layernorm2(out1 + ffn_output)  # (batch_size, input_seq_len, d_model)\n",
        "        return out2"
      ]
    },
    {
      "cell_type": "code",
      "execution_count": 15,
      "metadata": {},
      "outputs": [],
      "source": [
        "class Encoder(tf.keras.layers.Layer):\n",
        "    def __init__(self,*, num_layers, d_model, num_heads, dff, input_vocab_size,rate=0.1):\n",
        "        super(Encoder, self).__init__()\n",
        "\n",
        "        self.d_model = d_model\n",
        "        self.num_layers = num_layers\n",
        "\n",
        "        self.embedding = tf.keras.layers.Embedding(input_vocab_size, d_model)\n",
        "        self.pos_encoding = positional_encoding(MAX_TOKENS, self.d_model)\n",
        "        self.enc_layers = [EncoderLayer(d_model=d_model, num_heads=num_heads, dff=dff, rate=rate) for _ in range(num_layers)]\n",
        "\n",
        "        self.dropout = tf.keras.layers.Dropout(rate)\n",
        "\n",
        "    def call(self, x, training, mask):\n",
        "        seq_len = tf.shape(x)[1]\n",
        "\n",
        "        x = self.embedding(x) \n",
        "        x *= tf.math.sqrt(tf.cast(self.d_model, tf.float32))\n",
        "        x += self.pos_encoding[:, :seq_len, :]\n",
        "\n",
        "        x = self.dropout(x, training=training)\n",
        "\n",
        "        for i in range(self.num_layers):\n",
        "            x = self.enc_layers[i](x, training, mask)\n",
        "\n",
        "        return x "
      ]
    },
    {
      "cell_type": "markdown",
      "metadata": {},
      "source": [
        "### Decoder Implementation"
      ]
    },
    {
      "cell_type": "code",
      "execution_count": 16,
      "metadata": {
        "id": "-BVwepIm8thU"
      },
      "outputs": [],
      "source": [
        "class DecoderLayer(tf.keras.layers.Layer):\n",
        "    def __init__(self,*, d_model, num_heads, dff, rate=0.1):\n",
        "        super(DecoderLayer, self).__init__()\n",
        "        self.mha1 = MultiHeadAttention(d_model=d_model, num_heads=num_heads)\n",
        "        self.mha2 = MultiHeadAttention(d_model=d_model, num_heads=num_heads)\n",
        "\n",
        "        self.ffn = point_wise_feed_forward_network(d_model, dff)\n",
        "\n",
        "        self.layernorm1 = tf.keras.layers.LayerNormalization(epsilon=1e-6)\n",
        "        self.layernorm2 = tf.keras.layers.LayerNormalization(epsilon=1e-6)\n",
        "        self.layernorm3 = tf.keras.layers.LayerNormalization(epsilon=1e-6)\n",
        "\n",
        "        self.dropout1 = tf.keras.layers.Dropout(rate)\n",
        "        self.dropout2 = tf.keras.layers.Dropout(rate)\n",
        "        self.dropout3 = tf.keras.layers.Dropout(rate)\n",
        "\n",
        "    def call(self, x, enc_output, training,look_ahead_mask, padding_mask):\n",
        "        # enc_output.shape == (batch_size, input_seq_len, d_model)\n",
        "\n",
        "        attn1, attn_weights_block1 = self.mha1(x, x, x, look_ahead_mask)  \n",
        "        attn1 = self.dropout1(attn1, training=training)\n",
        "        out1 = self.layernorm1(attn1 + x)\n",
        "\n",
        "        attn2, attn_weights_block2 = self.mha2(enc_output, enc_output, out1, padding_mask) \n",
        "        attn2 = self.dropout2(attn2, training=training)\n",
        "        out2 = self.layernorm2(attn2 + out1)  \n",
        "\n",
        "        ffn_output = self.ffn(out2)  \n",
        "        ffn_output = self.dropout3(ffn_output, training=training)\n",
        "        out3 = self.layernorm3(ffn_output + out2) \n",
        "\n",
        "        return out3, attn_weights_block1, attn_weights_block2"
      ]
    },
    {
      "cell_type": "code",
      "execution_count": 17,
      "metadata": {
        "id": "zpGgQRtr8thV"
      },
      "outputs": [],
      "source": [
        "class Decoder(tf.keras.layers.Layer):\n",
        "    def __init__(self,*, num_layers, d_model, num_heads, dff, target_vocab_size,rate=0.1):\n",
        "        super(Decoder, self).__init__()\n",
        "        self.d_model = d_model\n",
        "        self.num_layers = num_layers\n",
        "\n",
        "        self.embedding = tf.keras.layers.Embedding(target_vocab_size, d_model)\n",
        "        self.pos_encoding = positional_encoding(MAX_TOKENS, d_model)\n",
        "\n",
        "        self.dec_layers = [DecoderLayer(d_model=d_model, num_heads=num_heads, dff=dff, rate=rate) for _ in range(num_layers)]\n",
        "        self.dropout = tf.keras.layers.Dropout(rate)\n",
        "\n",
        "    def call(self, x, enc_output, training,look_ahead_mask, padding_mask):\n",
        "        seq_len = tf.shape(x)[1]\n",
        "        attention_weights = {}\n",
        "\n",
        "        x = self.embedding(x)  # (batch_size, target_seq_len, d_model)\n",
        "        x *= tf.math.sqrt(tf.cast(self.d_model, tf.float32))\n",
        "        x += self.pos_encoding[:, :seq_len, :]\n",
        "\n",
        "        x = self.dropout(x, training=training)\n",
        "\n",
        "        for i in range(self.num_layers):\n",
        "            x, block1, block2 = self.dec_layers[i](x, enc_output, training,\n",
        "                                                look_ahead_mask, padding_mask)\n",
        "\n",
        "            attention_weights[f'decoder_layer{i+1}_block1'] = block1\n",
        "            attention_weights[f'decoder_layer{i+1}_block2'] = block2\n",
        "\n",
        "        # x.shape == (batch_size, target_seq_len, d_model)\n",
        "        return x, attention_weights"
      ]
    },
    {
      "cell_type": "markdown",
      "metadata": {},
      "source": [
        "### Transformer Model Implementation"
      ]
    },
    {
      "cell_type": "code",
      "execution_count": 18,
      "metadata": {
        "id": "2CA914SM8thV"
      },
      "outputs": [],
      "source": [
        "class Transformer(tf.keras.Model):\n",
        "    def __init__(self,*, num_layers, d_model, num_heads, dff, input_vocab_size,target_vocab_size, rate=0.1):\n",
        "        super().__init__()\n",
        "        self.encoder = Encoder(num_layers=num_layers, d_model=d_model,num_heads=num_heads, dff=dff,input_vocab_size=input_vocab_size, rate=rate)\n",
        "        self.decoder = Decoder(num_layers=num_layers, d_model=d_model,num_heads=num_heads, dff=dff,target_vocab_size=target_vocab_size, rate=rate)\n",
        "        self.final_layer = tf.keras.layers.Dense(target_vocab_size)\n",
        "\n",
        "    def call(self, inputs, training):\n",
        "        inp, tar = inputs\n",
        "        padding_mask, look_ahead_mask = self.create_masks(inp, tar)\n",
        "        enc_output = self.encoder(inp, training, padding_mask) \n",
        "\n",
        "        dec_output, attention_weights = self.decoder(tar, enc_output, training, look_ahead_mask, padding_mask)\n",
        "        final_output = self.final_layer(dec_output)  \n",
        "\n",
        "        return final_output, attention_weights\n",
        "\n",
        "    def create_masks(self, inp, tar):\n",
        "        padding_mask = create_padding_mask(inp)\n",
        "\n",
        "        look_ahead_mask = create_look_ahead_mask(tf.shape(tar)[1])\n",
        "        dec_target_padding_mask = create_padding_mask(tar)\n",
        "        look_ahead_mask = tf.maximum(dec_target_padding_mask, look_ahead_mask)\n",
        "        return padding_mask, look_ahead_mask"
      ]
    },
    {
      "cell_type": "markdown",
      "metadata": {},
      "source": [
        "# Build models and related functions(loss,optimizer,...) & Train"
      ]
    },
    {
      "cell_type": "markdown",
      "metadata": {},
      "source": [
        "### Define detail of the network architecture"
      ]
    },
    {
      "cell_type": "code",
      "execution_count": 19,
      "metadata": {
        "id": "lYCtMxKA8thV"
      },
      "outputs": [],
      "source": [
        "num_layers = 2\n",
        "d_model = 128\n",
        "dff = 512\n",
        "num_heads = 8\n",
        "dropout_rate = 0.1\n",
        "EPOCHS = 20\n"
      ]
    },
    {
      "cell_type": "markdown",
      "metadata": {},
      "source": [
        "### Optimizer Implementation"
      ]
    },
    {
      "cell_type": "code",
      "execution_count": 20,
      "metadata": {
        "id": "I6UgYa_m8thW"
      },
      "outputs": [
        {
          "data": {
            "image/png": "[encoded data removed]",
            "text/plain": [
              "<Figure size 432x288 with 1 Axes>"
            ]
          },
          "metadata": {
            "needs_background": "light"
          },
          "output_type": "display_data"
        }
      ],
      "source": [
        "class CustomSchedule(tf.keras.optimizers.schedules.LearningRateSchedule):\n",
        "    def __init__(self, d_model, warmup_steps=4000):\n",
        "        super(CustomSchedule, self).__init__()\n",
        "\n",
        "        self.d_model = d_model\n",
        "        self.d_model = tf.cast(self.d_model, tf.float32)\n",
        "\n",
        "        self.warmup_steps = warmup_steps\n",
        "\n",
        "    def __call__(self, step):\n",
        "        arg1 = tf.math.rsqrt(step)\n",
        "        arg2 = step * (self.warmup_steps ** -1.5)\n",
        "        return tf.math.rsqrt(self.d_model) * tf.math.minimum(arg1, arg2)\n",
        "\n",
        "learning_rate = CustomSchedule(d_model)\n",
        "optimizer = tf.keras.optimizers.Adam(learning_rate, beta_1=0.9, beta_2=0.98, epsilon=1e-9)\n",
        "temp_learning_rate_schedule = CustomSchedule(d_model)\n",
        "plt.plot(temp_learning_rate_schedule(tf.range(50000, dtype=tf.float32)))\n",
        "plt.title(\"Learning Rate Scheduler\")\n",
        "plt.ylabel('Learning Rate')\n",
        "plt.xlabel('Train Step')\n",
        "plt.show()"
      ]
    },
    {
      "cell_type": "markdown",
      "metadata": {},
      "source": [
        "### Loss Implementation"
      ]
    },
    {
      "cell_type": "code",
      "execution_count": 21,
      "metadata": {
        "id": "tqhpjdxK8thX"
      },
      "outputs": [],
      "source": [
        "loss_object = tf.keras.losses.SparseCategoricalCrossentropy(from_logits=True, reduction='none')\n",
        "\n",
        "def loss_function(real, pred):\n",
        "    mask = tf.math.logical_not(tf.math.equal(real, 0))\n",
        "    loss_ = loss_object(real, pred)\n",
        "\n",
        "    mask = tf.cast(mask, dtype=loss_.dtype)\n",
        "    loss_ *= mask\n",
        "    \n",
        "    return tf.reduce_sum(loss_)/tf.reduce_sum(mask)\n",
        "\n",
        "\n",
        "def accuracy_function(real, pred):\n",
        "    accuracies = tf.equal(real, tf.argmax(pred, axis=2))\n",
        "\n",
        "    mask = tf.math.logical_not(tf.math.equal(real, 0))\n",
        "    accuracies = tf.math.logical_and(mask, accuracies)\n",
        "\n",
        "    accuracies = tf.cast(accuracies, dtype=tf.float32)\n",
        "    mask = tf.cast(mask, dtype=tf.float32)\n",
        "    return tf.reduce_sum(accuracies)/tf.reduce_sum(mask)\n",
        "\n",
        "\n",
        "train_loss = tf.keras.metrics.Mean(name='train_loss')\n",
        "train_accuracy = tf.keras.metrics.Mean(name='train_accuracy')\n",
        "\n"
      ]
    },
    {
      "cell_type": "markdown",
      "metadata": {},
      "source": [
        "### Build a transformer model"
      ]
    },
    {
      "cell_type": "code",
      "execution_count": 22,
      "metadata": {
        "id": "MJXGmZ6u8thY"
      },
      "outputs": [],
      "source": [
        "transformer = Transformer(\n",
        "    num_layers=num_layers,\n",
        "    d_model=d_model,\n",
        "    num_heads=num_heads,\n",
        "    dff=dff,\n",
        "    input_vocab_size=tokenizers.pt.get_vocab_size().numpy(),\n",
        "    target_vocab_size=tokenizers.en.get_vocab_size().numpy(),\n",
        "    rate=dropout_rate)"
      ]
    },
    {
      "cell_type": "markdown",
      "metadata": {},
      "source": [
        "### Train on batch"
      ]
    },
    {
      "cell_type": "code",
      "execution_count": 23,
      "metadata": {
        "id": "8VPFTvLy8thY"
      },
      "outputs": [],
      "source": [
        "train_step_signature = [\n",
        "    tf.TensorSpec(shape=(None, None), dtype=tf.int64),\n",
        "    tf.TensorSpec(shape=(None, None), dtype=tf.int64),\n",
        "]\n",
        "\n",
        "\n",
        "@tf.function(input_signature=train_step_signature)\n",
        "def train_step(inp, tar):\n",
        "    tar_inp = tar[:, :-1]\n",
        "    tar_real = tar[:, 1:]\n",
        "\n",
        "    with tf.GradientTape() as tape:\n",
        "        predictions, _ = transformer([inp, tar_inp],training = True)\n",
        "        loss = loss_function(tar_real, predictions)\n",
        "\n",
        "    gradients = tape.gradient(loss, transformer.trainable_variables)\n",
        "    optimizer.apply_gradients(zip(gradients, transformer.trainable_variables))\n",
        "\n",
        "    train_loss(loss)\n",
        "    train_accuracy(accuracy_function(tar_real, predictions))"
      ]
    },
    {
      "cell_type": "markdown",
      "metadata": {},
      "source": [
        "### Train loop"
      ]
    },
    {
      "cell_type": "code",
      "execution_count": 24,
      "metadata": {
        "colab": {
          "base_uri": "https://localhost:8080/"
        },
        "id": "QZDwBkaa8thZ",
        "outputId": "ae298118-f865-4aae-c907-88115011d942"
      },
      "outputs": [
        {
          "name": "stdout",
          "output_type": "stream",
          "text": [
            "Epoch 1 Batch 0 Loss 8.8708 Accuracy 0.0000\n",
            "Epoch 1 Batch 50 Loss 8.8240 Accuracy 0.0043\n",
            "Epoch 1 Batch 100 Loss 8.7157 Accuracy 0.0263\n",
            "Epoch 1 Batch 150 Loss 8.5883 Accuracy 0.0360\n",
            "Epoch 1 Batch 200 Loss 8.4337 Accuracy 0.0410\n",
            "Epoch 1 Batch 250 Loss 8.2526 Accuracy 0.0453\n",
            "Epoch 1 Loss 8.0625 Accuracy 0.0514\n",
            "Time taken for 1 epoch: 41.34 secs\n",
            "\n",
            "Epoch 2 Batch 0 Loss 6.8094 Accuracy 0.0911\n",
            "Epoch 2 Batch 50 Loss 6.6475 Accuracy 0.0900\n",
            "Epoch 2 Batch 100 Loss 6.4944 Accuracy 0.0963\n",
            "Epoch 2 Batch 150 Loss 6.3749 Accuracy 0.1068\n",
            "Epoch 2 Batch 200 Loss 6.2782 Accuracy 0.1194\n",
            "Epoch 2 Batch 250 Loss 6.1791 Accuracy 0.1300\n",
            "Epoch 2 Batch 300 Loss 6.0772 Accuracy 0.1396\n",
            "Epoch 2 Loss 6.0675 Accuracy 0.1404\n",
            "Time taken for 1 epoch: 37.08 secs\n",
            "\n",
            "Epoch 3 Batch 0 Loss 5.4082 Accuracy 0.2095\n",
            "Epoch 3 Batch 50 Loss 5.4038 Accuracy 0.2012\n",
            "Epoch 3 Batch 100 Loss 5.3472 Accuracy 0.2070\n",
            "Epoch 3 Batch 150 Loss 5.2950 Accuracy 0.2126\n",
            "Epoch 3 Batch 200 Loss 5.2405 Accuracy 0.2181\n",
            "Epoch 3 Batch 250 Loss 5.1966 Accuracy 0.2230\n",
            "Epoch 3 Batch 300 Loss 5.1498 Accuracy 0.2282\n",
            "Epoch 3 Loss 5.1498 Accuracy 0.2282\n",
            "Time taken for 1 epoch: 36.00 secs\n",
            "\n",
            "Epoch 4 Batch 0 Loss 4.7480 Accuracy 0.2698\n",
            "Epoch 4 Batch 50 Loss 4.8208 Accuracy 0.2639\n",
            "Epoch 4 Batch 100 Loss 4.7909 Accuracy 0.2662\n",
            "Epoch 4 Batch 150 Loss 4.7523 Accuracy 0.2711\n",
            "Epoch 4 Batch 200 Loss 4.7197 Accuracy 0.2745\n",
            "Epoch 4 Batch 250 Loss 4.6852 Accuracy 0.2785\n",
            "Epoch 4 Batch 300 Loss 4.6558 Accuracy 0.2821\n",
            "Epoch 4 Loss 4.6529 Accuracy 0.2825\n",
            "Time taken for 1 epoch: 36.49 secs\n",
            "\n",
            "Epoch 5 Batch 0 Loss 4.4397 Accuracy 0.3138\n",
            "Epoch 5 Batch 50 Loss 4.3731 Accuracy 0.3140\n",
            "Epoch 5 Batch 100 Loss 4.3405 Accuracy 0.3182\n",
            "Epoch 5 Batch 150 Loss 4.3272 Accuracy 0.3197\n",
            "Epoch 5 Batch 200 Loss 4.2972 Accuracy 0.3235\n",
            "Epoch 5 Batch 250 Loss 4.2660 Accuracy 0.3271\n",
            "Epoch 5 Batch 300 Loss 4.2403 Accuracy 0.3301\n",
            "Epoch 5 Loss 4.2374 Accuracy 0.3305\n",
            "Time taken for 1 epoch: 37.17 secs\n",
            "\n",
            "Epoch 6 Batch 0 Loss 4.1270 Accuracy 0.3347\n",
            "Epoch 6 Batch 50 Loss 4.0138 Accuracy 0.3553\n",
            "Epoch 6 Batch 100 Loss 3.9799 Accuracy 0.3587\n",
            "Epoch 6 Batch 150 Loss 3.9493 Accuracy 0.3616\n",
            "Epoch 6 Batch 200 Loss 3.9257 Accuracy 0.3645\n",
            "Epoch 6 Batch 250 Loss 3.9005 Accuracy 0.3672\n",
            "Epoch 6 Batch 300 Loss 3.8784 Accuracy 0.3698\n",
            "Epoch 6 Loss 3.8746 Accuracy 0.3702\n",
            "Time taken for 1 epoch: 38.30 secs\n",
            "\n",
            "Epoch 7 Batch 0 Loss 3.6156 Accuracy 0.3976\n",
            "Epoch 7 Batch 50 Loss 3.6407 Accuracy 0.3952\n",
            "Epoch 7 Batch 100 Loss 3.6147 Accuracy 0.3969\n",
            "Epoch 7 Batch 150 Loss 3.5896 Accuracy 0.4001\n",
            "Epoch 7 Batch 200 Loss 3.5779 Accuracy 0.4019\n",
            "Epoch 7 Batch 250 Loss 3.5632 Accuracy 0.4040\n",
            "Epoch 7 Batch 300 Loss 3.5419 Accuracy 0.4064\n",
            "Epoch 7 Loss 3.5418 Accuracy 0.4065\n",
            "Time taken for 1 epoch: 35.94 secs\n",
            "\n",
            "Epoch 8 Batch 0 Loss 3.4733 Accuracy 0.4009\n",
            "Epoch 8 Batch 50 Loss 3.3334 Accuracy 0.4308\n",
            "Epoch 8 Batch 100 Loss 3.3257 Accuracy 0.4307\n",
            "Epoch 8 Batch 150 Loss 3.3017 Accuracy 0.4333\n",
            "Epoch 8 Batch 200 Loss 3.2880 Accuracy 0.4341\n",
            "Epoch 8 Batch 250 Loss 3.2742 Accuracy 0.4357\n",
            "Epoch 8 Loss 3.2591 Accuracy 0.4372\n",
            "Time taken for 1 epoch: 36.04 secs\n",
            "\n",
            "Epoch 9 Batch 0 Loss 3.2443 Accuracy 0.4396\n",
            "Epoch 9 Batch 50 Loss 3.0697 Accuracy 0.4574\n",
            "Epoch 9 Batch 100 Loss 3.0579 Accuracy 0.4574\n",
            "Epoch 9 Batch 150 Loss 3.0379 Accuracy 0.4603\n",
            "Epoch 9 Batch 200 Loss 3.0281 Accuracy 0.4617\n",
            "Epoch 9 Batch 250 Loss 3.0199 Accuracy 0.4624\n",
            "Epoch 9 Batch 300 Loss 3.0064 Accuracy 0.4640\n",
            "Epoch 9 Loss 3.0060 Accuracy 0.4640\n",
            "Time taken for 1 epoch: 37.34 secs\n",
            "\n",
            "Epoch 10 Batch 0 Loss 2.9706 Accuracy 0.4636\n",
            "Epoch 10 Batch 50 Loss 2.8296 Accuracy 0.4835\n",
            "Epoch 10 Batch 100 Loss 2.8207 Accuracy 0.4843\n",
            "Epoch 10 Batch 150 Loss 2.8053 Accuracy 0.4862\n",
            "Epoch 10 Batch 200 Loss 2.7924 Accuracy 0.4879\n",
            "Epoch 10 Batch 250 Loss 2.7849 Accuracy 0.4891\n",
            "Epoch 10 Batch 300 Loss 2.7803 Accuracy 0.4898\n",
            "Epoch 10 Loss 2.7803 Accuracy 0.4898\n",
            "Time taken for 1 epoch: 36.55 secs\n",
            "\n",
            "Epoch 11 Batch 0 Loss 2.5581 Accuracy 0.5163\n",
            "Epoch 11 Batch 50 Loss 2.6305 Accuracy 0.5072\n",
            "Epoch 11 Batch 100 Loss 2.6277 Accuracy 0.5083\n",
            "Epoch 11 Batch 150 Loss 2.6176 Accuracy 0.5088\n",
            "Epoch 11 Batch 200 Loss 2.6113 Accuracy 0.5095\n",
            "Epoch 11 Batch 250 Loss 2.6132 Accuracy 0.5094\n",
            "Epoch 11 Batch 300 Loss 2.6070 Accuracy 0.5103\n",
            "Epoch 11 Loss 2.6068 Accuracy 0.5103\n",
            "Time taken for 1 epoch: 37.49 secs\n",
            "\n",
            "Epoch 12 Batch 0 Loss 2.4905 Accuracy 0.5236\n",
            "Epoch 12 Batch 50 Loss 2.4215 Accuracy 0.5338\n",
            "Epoch 12 Batch 100 Loss 2.4383 Accuracy 0.5308\n",
            "Epoch 12 Batch 150 Loss 2.4406 Accuracy 0.5309\n",
            "Epoch 12 Batch 200 Loss 2.4464 Accuracy 0.5299\n",
            "Epoch 12 Batch 250 Loss 2.4490 Accuracy 0.5298\n",
            "Epoch 12 Batch 300 Loss 2.4510 Accuracy 0.5294\n",
            "Epoch 12 Loss 2.4517 Accuracy 0.5293\n",
            "Time taken for 1 epoch: 37.31 secs\n",
            "\n",
            "Epoch 13 Batch 0 Loss 2.3718 Accuracy 0.5370\n",
            "Epoch 13 Batch 50 Loss 2.2928 Accuracy 0.5494\n",
            "Epoch 13 Batch 100 Loss 2.3108 Accuracy 0.5464\n",
            "Epoch 13 Batch 150 Loss 2.3158 Accuracy 0.5462\n",
            "Epoch 13 Batch 200 Loss 2.3171 Accuracy 0.5461\n",
            "Epoch 13 Batch 250 Loss 2.3195 Accuracy 0.5458\n",
            "Epoch 13 Loss 2.3285 Accuracy 0.5446\n",
            "Time taken for 1 epoch: 36.38 secs\n",
            "\n",
            "Epoch 14 Batch 0 Loss 2.2190 Accuracy 0.5585\n",
            "Epoch 14 Batch 50 Loss 2.1867 Accuracy 0.5635\n",
            "Epoch 14 Batch 100 Loss 2.2037 Accuracy 0.5610\n",
            "Epoch 14 Batch 150 Loss 2.2082 Accuracy 0.5611\n",
            "Epoch 14 Batch 200 Loss 2.2161 Accuracy 0.5599\n",
            "Epoch 14 Batch 250 Loss 2.2250 Accuracy 0.5584\n",
            "Epoch 14 Batch 300 Loss 2.2241 Accuracy 0.5586\n",
            "Epoch 14 Loss 2.2254 Accuracy 0.5586\n",
            "Time taken for 1 epoch: 36.44 secs\n",
            "\n",
            "Epoch 15 Batch 0 Loss 2.1196 Accuracy 0.5789\n",
            "Epoch 15 Batch 50 Loss 2.0783 Accuracy 0.5791\n",
            "Epoch 15 Batch 100 Loss 2.0816 Accuracy 0.5785\n",
            "Epoch 15 Batch 150 Loss 2.0897 Accuracy 0.5773\n",
            "Epoch 15 Batch 200 Loss 2.0951 Accuracy 0.5762\n",
            "Epoch 15 Batch 250 Loss 2.1042 Accuracy 0.5750\n",
            "Epoch 15 Batch 300 Loss 2.1081 Accuracy 0.5747\n",
            "Epoch 15 Loss 2.1085 Accuracy 0.5746\n",
            "Time taken for 1 epoch: 36.61 secs\n",
            "\n",
            "Epoch 16 Batch 0 Loss 1.9366 Accuracy 0.6047\n",
            "Epoch 16 Batch 50 Loss 1.9772 Accuracy 0.5935\n",
            "Epoch 16 Batch 100 Loss 1.9852 Accuracy 0.5916\n",
            "Epoch 16 Batch 150 Loss 1.9900 Accuracy 0.5911\n",
            "Epoch 16 Batch 200 Loss 1.9977 Accuracy 0.5903\n",
            "Epoch 16 Batch 250 Loss 2.0065 Accuracy 0.5890\n",
            "Epoch 16 Batch 300 Loss 2.0088 Accuracy 0.5888\n",
            "Epoch 16 Loss 2.0093 Accuracy 0.5887\n",
            "Time taken for 1 epoch: 36.37 secs\n",
            "\n",
            "Epoch 17 Batch 0 Loss 1.8545 Accuracy 0.6128\n",
            "Epoch 17 Batch 50 Loss 1.8898 Accuracy 0.6051\n",
            "Epoch 17 Batch 100 Loss 1.8936 Accuracy 0.6052\n",
            "Epoch 17 Batch 150 Loss 1.9029 Accuracy 0.6036\n",
            "Epoch 17 Batch 200 Loss 1.9093 Accuracy 0.6031\n",
            "Epoch 17 Batch 250 Loss 1.9183 Accuracy 0.6017\n",
            "Epoch 17 Batch 300 Loss 1.9323 Accuracy 0.5996\n",
            "Epoch 17 Loss 1.9323 Accuracy 0.5996\n",
            "Time taken for 1 epoch: 36.09 secs\n",
            "\n",
            "Epoch 18 Batch 0 Loss 1.7349 Accuracy 0.6299\n",
            "Epoch 18 Batch 50 Loss 1.8202 Accuracy 0.6159\n",
            "Epoch 18 Batch 100 Loss 1.8423 Accuracy 0.6128\n",
            "Epoch 18 Batch 150 Loss 1.8461 Accuracy 0.6123\n",
            "Epoch 18 Batch 200 Loss 1.8512 Accuracy 0.6118\n",
            "Epoch 18 Batch 250 Loss 1.8577 Accuracy 0.6109\n",
            "Epoch 18 Batch 300 Loss 1.8666 Accuracy 0.6093\n",
            "Epoch 18 Loss 1.8684 Accuracy 0.6090\n",
            "Time taken for 1 epoch: 37.25 secs\n",
            "\n",
            "Epoch 19 Batch 0 Loss 1.6887 Accuracy 0.6437\n",
            "Epoch 19 Batch 50 Loss 1.7630 Accuracy 0.6239\n",
            "Epoch 19 Batch 100 Loss 1.7748 Accuracy 0.6222\n",
            "Epoch 19 Batch 150 Loss 1.7851 Accuracy 0.6202\n",
            "Epoch 19 Batch 200 Loss 1.7924 Accuracy 0.6192\n",
            "Epoch 19 Batch 250 Loss 1.7975 Accuracy 0.6189\n",
            "Epoch 19 Batch 300 Loss 1.8027 Accuracy 0.6184\n",
            "Epoch 19 Loss 1.8028 Accuracy 0.6184\n",
            "Time taken for 1 epoch: 36.38 secs\n",
            "\n",
            "Epoch 20 Batch 0 Loss 1.6658 Accuracy 0.6413\n",
            "Epoch 20 Batch 50 Loss 1.7066 Accuracy 0.6329\n",
            "Epoch 20 Batch 100 Loss 1.7156 Accuracy 0.6306\n",
            "Epoch 20 Batch 150 Loss 1.7242 Accuracy 0.6296\n",
            "Epoch 20 Batch 200 Loss 1.7297 Accuracy 0.6286\n",
            "Epoch 20 Batch 250 Loss 1.7384 Accuracy 0.6274\n",
            "Epoch 20 Loss 1.7461 Accuracy 0.6265\n",
            "Time taken for 1 epoch: 36.51 secs\n",
            "\n"
          ]
        }
      ],
      "source": [
        "def train():\n",
        "    losses = []\n",
        "    acc = []\n",
        "    for epoch in range(EPOCHS):\n",
        "        start = time.time()\n",
        "\n",
        "        train_loss.reset_states()\n",
        "        train_accuracy.reset_states()\n",
        "        L = 0 \n",
        "        A = 0\n",
        "        i = 0\n",
        "        for (batch, (inp, tar)) in enumerate(train_batches):\n",
        "            train_step(inp, tar)\n",
        "\n",
        "            i+=1\n",
        "            L += train_loss.result()\n",
        "            A += train_accuracy.result()\n",
        "\n",
        "            if batch % 50 == 0:\n",
        "                print(f'Epoch {epoch + 1} Batch {batch} Loss {train_loss.result():.4f} Accuracy {train_accuracy.result():.4f}')\n",
        "\n",
        "        print(f'Epoch {epoch + 1} Loss {train_loss.result():.4f} Accuracy {train_accuracy.result():.4f}')\n",
        "        print(f'Time taken for 1 epoch: {time.time() - start:.2f} secs\\n')\n",
        "\n",
        "        losses.append(L/i)\n",
        "        acc.append(A/i) \n",
        "\n",
        "    return losses,acc \n",
        "\n",
        "results = train()\n",
        "        "
      ]
    },
    {
      "cell_type": "markdown",
      "metadata": {},
      "source": [
        "### Plot training loss & acc"
      ]
    },
    {
      "cell_type": "code",
      "execution_count": 25,
      "metadata": {},
      "outputs": [
        {
          "data": {
            "image/png": "[encoded data removed]",
            "text/plain": [
              "<Figure size 1296x432 with 2 Axes>"
            ]
          },
          "metadata": {},
          "output_type": "display_data"
        }
      ],
      "source": [
        "sns.set_style(\"darkgrid\")\n",
        "plt.rcParams[\"figure.figsize\"] = (18,6)\n",
        "plt.subplot(1,2,1)\n",
        "plt.plot(results[0])\n",
        "plt.xlabel(\"Epoch\")\n",
        "plt.xlim((-2,53))\n",
        "plt.ylim((0.5,8.8))\n",
        "plt.ylabel(\"Loss/Sparse Categorical Cross entropy\")\n",
        "plt.title(\"Loss/Epoch | Multi-head Attention: {0} | #layer: 2\".format(num_heads))\n",
        "\n",
        "plt.subplot(1,2,2)\n",
        "plt.plot(results[1],color=\"green\")\n",
        "plt.xlabel(\"Epoch\")\n",
        "plt.xlim((-2,53))\n",
        "plt.ylim((0,0.75))\n",
        "plt.ylabel(\"Accuracy\")\n",
        "plt.title(\"Loss/Prediction Accuracy | Multi-head Attention: {0} | #layer: 2\".format(num_heads))\n",
        "\n",
        "plt.tight_layout()\n",
        "plt.show()"
      ]
    },
    {
      "cell_type": "markdown",
      "metadata": {},
      "source": [
        "# Translation"
      ]
    },
    {
      "cell_type": "code",
      "execution_count": 26,
      "metadata": {
        "id": "YMkS5b_k8thZ"
      },
      "outputs": [],
      "source": [
        "class Translator(tf.Module):\n",
        "    def __init__(self, tokenizers, transformer):\n",
        "        self.tokenizers = tokenizers\n",
        "        self.transformer = transformer\n",
        "\n",
        "    def __call__(self, sentence, max_length=MAX_TOKENS):\n",
        "        assert isinstance(sentence, tf.Tensor)\n",
        "        if len(sentence.shape) == 0:\n",
        "            sentence = sentence[tf.newaxis]\n",
        "\n",
        "        sentence = self.tokenizers.pt.tokenize(sentence).to_tensor()\n",
        "\n",
        "        encoder_input = sentence\n",
        "\n",
        "        start_end = self.tokenizers.en.tokenize([''])[0]\n",
        "        start = start_end[0][tf.newaxis]\n",
        "        end = start_end[1][tf.newaxis]\n",
        "\n",
        "        output_array = tf.TensorArray(dtype=tf.int64, size=0, dynamic_size=True)\n",
        "        output_array = output_array.write(0, start)\n",
        "        \n",
        "        for i in tf.range(max_length):\n",
        "            output = tf.transpose(output_array.stack())\n",
        "            predictions, _ = self.transformer([encoder_input, output], training=False)\n",
        "            predictions = predictions[:, -1:, :]  \n",
        "            predicted_id = tf.argmax(predictions, axis=-1)\n",
        "            output_array = output_array.write(i+1, predicted_id[0])\n",
        "\n",
        "            if predicted_id == end:\n",
        "                break\n",
        "            \n",
        "        output = tf.transpose(output_array.stack())\n",
        "        text = tokenizers.en.detokenize(output)[0]  # shape: ()\n",
        "        tokens = tokenizers.en.lookup(output)[0]\n",
        "        _, attention_weights = self.transformer([encoder_input, output[:,:-1]], training=False)\n",
        "        return text, tokens, attention_weights\n",
        "\n",
        "translator = Translator(tokenizers, transformer)"
      ]
    },
    {
      "cell_type": "markdown",
      "metadata": {},
      "source": [
        "# Attention heatmap and prediction"
      ]
    },
    {
      "cell_type": "code",
      "execution_count": 27,
      "metadata": {
        "id": "EVsQ9pgV8tha"
      },
      "outputs": [],
      "source": [
        "def print_translation(sentence, tokens, ground_truth):\n",
        "    print(f'{\"Input:\":15s}: {sentence}')\n",
        "    print(f'{\"Prediction\":15s}: {tokens.numpy().decode(\"utf-8\")}')\n",
        "    print(f'{\"Ground truth\":15s}: {ground_truth}')\n",
        "    "
      ]
    },
    {
      "cell_type": "code",
      "execution_count": 28,
      "metadata": {
        "id": "uJ2iGNEe8tha",
        "outputId": "d68faec0-3b25-428f-f109-32cfee32cf0c"
      },
      "outputs": [
        {
          "name": "stdout",
          "output_type": "stream",
          "text": [
            "Input:         : é algo que nos acontece sem o nosso consentimento .\n",
            "Prediction     : it ' s something that happens without our consent .\n",
            "Ground truth   : it 's something that happens to us without our consent .\n"
          ]
        }
      ],
      "source": [
        "sentence = \"\"\"é algo que nos acontece sem o nosso consentimento .\"\"\"\n",
        "ground_truth = \"\"\"it 's something that happens to us without our consent .\"\"\"\n",
        "\n",
        "translated_text, translated_tokens, attention_weights = translator(\n",
        "    tf.constant(sentence))\n",
        "print_translation(sentence, translated_text, ground_truth)"
      ]
    },
    {
      "cell_type": "code",
      "execution_count": 29,
      "metadata": {
        "id": "SkIYzDne8thi"
      },
      "outputs": [],
      "source": [
        "def plot_attention_head(in_tokens, translated_tokens, attention):\n",
        "    translated_tokens = translated_tokens[1:]\n",
        "    ax = plt.gca()\n",
        "    \n",
        "    ax.matshow(attention,cmap =\"cool\")\n",
        "    ax.set_xticks(range(len(in_tokens)))\n",
        "    ax.set_yticks(range(len(translated_tokens)))\n",
        "    labels = [label.decode('utf-8') for label in in_tokens.numpy()]\n",
        "    ax.set_xticklabels(\n",
        "        labels, rotation=90)\n",
        "    labels = [label.decode('utf-8') for label in translated_tokens.numpy()]\n",
        "    ax.set_yticklabels(labels)\n"
      ]
    },
    {
      "cell_type": "code",
      "execution_count": 31,
      "metadata": {},
      "outputs": [
        {
          "data": {
            "image/png": "[encoded data removed]",
            "text/plain": [
              "<Figure size 1008x2016 with 8 Axes>"
            ]
          },
          "metadata": {},
          "output_type": "display_data"
        }
      ],
      "source": [
        "def plot_attention_weights(sentence, translated_tokens, attention_heads):\n",
        "    in_tokens = tf.convert_to_tensor([sentence])\n",
        "    in_tokens = tokenizers.pt.tokenize(in_tokens).to_tensor()\n",
        "    in_tokens = tokenizers.pt.lookup(in_tokens)[0]\n",
        "    in_tokens\n",
        "\n",
        "    fig = plt.figure(figsize=(14, 28))\n",
        "    \n",
        "    for h, head in enumerate(attention_heads):\n",
        "        ax = fig.add_subplot(num_heads//2, 2, h+1)\n",
        "\n",
        "        plot_attention_head(in_tokens, translated_tokens, head)\n",
        "\n",
        "        ax.set_xlabel(f'Head {h+1}')\n",
        "\n",
        "    plt.tight_layout()\n",
        "    plt.show()\n",
        "\n",
        "sns.set_style(\"dark\")\n",
        "plot_attention_weights(sentence, translated_tokens,attention_weights['decoder_layer2_block2'][0])"
      ]
    },
    {
      "cell_type": "markdown",
      "metadata": {},
      "source": [
        "### Sample translation"
      ]
    },
    {
      "cell_type": "code",
      "execution_count": 32,
      "metadata": {},
      "outputs": [
        {
          "name": "stdout",
          "output_type": "stream",
          "text": [
            "\n",
            "Test Sample #1 <==========================\n",
            "Input:         : depois , podem fazer-se e testar-se previsões .\n",
            "Prediction     : then you can do it and guess the predictions .\n",
            "Ground truth   : then , predictions can be made and tested .\n",
            "\n",
            "Test Sample #2 <==========================\n",
            "Input:         : forçou a parar múltiplos laboratórios que ofereciam testes brca .\n",
            "Prediction     : it ' s forced to stop multiple laboratories that would provide brcam .\n",
            "Ground truth   : it had forced multiple labs that were offering brca testing to stop .\n",
            "\n",
            "Test Sample #3 <==========================\n",
            "Input:         : as formigas são um exemplo clássico ; as operárias trabalham para as rainhas e vice-versa .\n",
            "Prediction     : admis are a classic example ; operating work for the queens and vice verses .\n",
            "Ground truth   : ants are a classic example ; workers work for queens and queens work for workers .\n",
            "\n",
            "Test Sample #4 <==========================\n",
            "Input:         : uma em cada cem crianças no mundo nascem com uma doença cardíaca .\n",
            "Prediction     : one in each 100 children in the world are born with heart disease .\n",
            "Ground truth   : one of every hundred children born worldwide has some kind of heart disease .\n",
            "\n",
            "Test Sample #5 <==========================\n",
            "Input:         : neste momento da sua vida , ela está a sofrer de sida no seu expoente máximo e tinha pneumonia .\n",
            "Prediction     : in this moment of his life , she ' s suffering from aids in their exposita and i ' d have poison .\n",
            "Ground truth   : at this point in her life , she 's suffering with full-blown aids and had pneumonia .\n",
            "\n",
            "Test Sample #6 <==========================\n",
            "Input:         : onde estão as redes económicas ?\n",
            "Prediction     : where are the economic networks ?\n",
            "Ground truth   : where are economic networks ?\n",
            "\n",
            "Test Sample #7 <==========================\n",
            "Input:         : ( aplausos )\n",
            "Prediction     : ( applause )\n",
            "Ground truth   : ( applause )\n",
            "\n",
            "Test Sample #8 <==========================\n",
            "Input:         : eu usei os contentores de transporte , e também os alunos ajudaram-nos a fazer toda a mobília dos edifícios , para torná-los confortáveis​​ , dentro do orçamento do governo , mas também com a mesma a área da casa , mas muito mais confortável .\n",
            "Prediction     : i used shipping containers , and also the students helped us make all the buildings mobilites them into the government , but also with the same area of the same area , but much more comfortable with the house , but much more comfortable .\n",
            "Ground truth   : i used the shipping container and also the students helped us to make all the building furniture to make them comfortable , within the budget of the government but also the area of the house is exactly the same , but much more comfortable .\n",
            "\n",
            "Test Sample #9 <==========================\n",
            "Input:         : e , no entanto , a ironia é que a única maneira de podermos fazer qualquer coisa nova é dar um passo nessa direção .\n",
            "Prediction     : and yet , the irony is that the only way we can do anything new and give it a step towards that direction .\n",
            "Ground truth   : and yet , the irony is , the only way we can ever do anything new is to step into that space .\n",
            "\n",
            "Test Sample #10 <==========================\n",
            "Input:         : a luz nunca desaparece .\n",
            "Prediction     : light has never gone .\n",
            "Ground truth   : the light never goes out .\n",
            "\n",
            "Test Sample #11 <==========================\n",
            "Input:         : `` agora , `` '' tweets '' '' , quem está a `` '' tweetar '' '' ? ''\n",
            "Prediction     : now , tweets is taworberry owned by twat ?\n",
            "Ground truth   : now , tweets , who 's tweeting ?\n",
            "\n",
            "Test Sample #12 <==========================\n",
            "Input:         : no egito , por exemplo , 91 % das mulheres que vivem hoje no egito foram mutiladas sexualmente dessa forma .\n",
            "Prediction     : in egypt , for example , 91 percent of women who live today in egypt were misundled to be sexually abused from that way .\n",
            "Ground truth   : in egypt , for instance , 91 percent of all the females that live in egypt today have been sexually mutilated in that way .\n",
            "\n",
            "Test Sample #13 <==========================\n",
            "Input:         : por outro lado , os bebés de 15 meses ficavam a olhar para ela durante muito tempo caso ela agisse como se preferisse os brócolos , como se não percebessem a situação .\n",
            "Prediction     : on the other hand , the babies would be looking at her for a long time , and she wants to be able to stand up as if you choose the brons , as if you do n ' t understand the situation .\n",
            "Ground truth   : on the other hand , 15 month-olds would stare at her for a long time if she acted as if she liked the broccoli , like they could n't figure this out .\n",
            "\n",
            "Test Sample #14 <==========================\n",
            "Input:         : naquele momento , percebi quanta energia negativa é precisa para conservar aquele ódio dentro de nós .\n",
            "Prediction     : that moment , i realized how much energy does it need to take that hated that hate in place inside us .\n",
            "Ground truth   : in that instant , i realized how much negative energy it takes to hold that hatred inside of you .\n",
            "\n",
            "Test Sample #15 <==========================\n",
            "Input:         : e a discussão é : o que é que isso interessa .\n",
            "Prediction     : it ' s discussion .\n",
            "Ground truth   : and the discussion is , who cares ? right ?\n",
            "\n",
            "Test Sample #16 <==========================\n",
            "Input:         : se escolhermos um lugar e formos cuidadosos , as coisas estarão sempre lá quando as procurarmos .\n",
            "Prediction     : if you choose a place and care , things will always be there for us to look at it .\n",
            "Ground truth   : if you designate a spot and you 're scrupulous about it , your things will always be there when you look for them .\n",
            "\n",
            "Test Sample #17 <==========================\n",
            "Input:         : é um museu muito popular agora , e criei um grande monumento para o governo .\n",
            "Prediction     : it ' s a very popular museum now , and i ' ve made a large monument to the government .\n",
            "Ground truth   : it 's a very popular museum now , and i created a big monument for the government .\n",
            "\n",
            "Test Sample #18 <==========================\n",
            "Input:         : é completamente irrelevante .\n",
            "Prediction     : it ' s completely going to go .\n",
            "Ground truth   : it 's completely irrelevant .\n",
            "\n",
            "Test Sample #19 <==========================\n",
            "Input:         : todos defenderam que a sua técnica era a melhor , mas nenhum deles tinha a certeza disso e admitiram-no .\n",
            "Prediction     : they all defend that their technique was the best , but no one of them , and they had to admit it .\n",
            "Ground truth   : `` they all argued that , `` '' my technique is the best , '' '' but none of them actually knew , and they admitted that . ''\n",
            "\n",
            "Test Sample #20 <==========================\n",
            "Input:         : a partir daquele momento , comecei a pensar .\n",
            "Prediction     : so from that moment , i started thinking .\n",
            "Ground truth   : at that moment , i started thinking .\n",
            "\n",
            "Test Sample #21 <==========================\n",
            "Input:         : mt : portanto , aqui temos a maré baixa e aqui a maré alta e no centro temos a lua .\n",
            "Prediction     : mt : so here we have the low - seas side and the high tides is at the center we have the moon .\n",
            "Ground truth   : mt : so over here is low tide , and over here is high tide , and in the middle is the moon .\n",
            "\n",
            "Test Sample #22 <==========================\n",
            "Input:         : então , este jogo é muito simples .\n",
            "Prediction     : so this game is very simple .\n",
            "Ground truth   : beau lotto : so , this game is very simple .\n",
            "\n",
            "Test Sample #23 <==========================\n",
            "Input:         : então , propus a reconstrução . angariei , recolhi fundos .\n",
            "Prediction     : so i proposed rebuilding it . i was degien , recoal funds .\n",
            "Ground truth   : so i proposed to rebuild . i raised — did fundraising .\n",
            "\n",
            "Test Sample #24 <==========================\n",
            "Input:         : o que nós - betty rapacholi , minha aluna , e eu - fizemos foi dar aos bebés dois pratos de comida : um prato com brócolos crus e um com bolachas deliciosas em forma de peixinho .\n",
            "Prediction     : what ' s bless bachel , my al - degree , and i did was give the two - hand - free - free - free - by - line , with chirps and a ball in a little bit of tiny little bit of tiny little bitx .\n",
            "Ground truth   : what we did — betty rapacholi , who was one of my students , and i — was actually to give the babies two bowls of food : one bowl of raw broccoli and one bowl of delicious goldfish crackers .\n",
            "\n",
            "Test Sample #25 <==========================\n",
            "Input:         : é algo que nos acontece sem o nosso consentimento .\n",
            "Prediction     : it ' s something that happens without our consent .\n",
            "Ground truth   : it 's something that happens to us without our consent .\n",
            "\n",
            "Test Sample #26 <==========================\n",
            "Input:         : ardemos de paixão .\n",
            "Prediction     : we ' re sucked out .\n",
            "Ground truth   : we burn with passion .\n",
            "\n",
            "Test Sample #27 <==========================\n",
            "Input:         : `` a mutilação genital é horrível , e desconhecida pelas mulheres americanas . mas , nalguns países , em muitos países , quando uma menina nasce , muito cedo na sua vida , os seus genitais são completamente removidos por um chamado `` '' cortador '' '' que , com uma lâmina de navalha , sem recurso à esterilização , corta as partes exteriores dos genitais femininos . ''\n",
            "Prediction     : ` ` misgractional genital is horrible , and hemmuncy for women , but in some countries , in many countries , when a born little girl , in their life , their genitalys are completely removed by a bison called ` ' ' ' ' ' which is a rat , which is a rat , without feminine off the strongestival of the feminine breeding of feminine . '\n",
            "Ground truth   : genital mutilation is horrible and not known by american women , but in some countries , many countries , when a child is born that 's a girl , very soon in her life , her genitals are completely cut away by a so-called cutter who has a razor blade and , in a non-sterilized way , they remove the exterior parts of a woman 's genitalia .\n",
            "\n",
            "Test Sample #28 <==========================\n",
            "Input:         : isto significa 20 % do orçamento , do orçamento relativo a cuidados de saúde do país .\n",
            "Prediction     : this means 20 percent of the budget budget of health care about the country .\n",
            "Ground truth   : that 's 20 percent of the budget , of the healthcare budget of the country .\n",
            "\n",
            "Test Sample #29 <==========================\n",
            "Input:         : conheci-o num evento 46664 .\n",
            "Prediction     : i met it on a 4664 .\n",
            "Ground truth   : i met him at a 46664 event .\n",
            "\n",
            "Test Sample #30 <==========================\n",
            "Input:         : deixem-me mostrar-vos o que quero dizer .\n",
            "Prediction     : let me show you what i mean .\n",
            "Ground truth   : let me show you what i mean .\n",
            "\n",
            "Test Sample #31 <==========================\n",
            "Input:         : acho que este é o problema .\n",
            "Prediction     : i think this is the problem .\n",
            "Ground truth   : i think this is a problem .\n",
            "\n",
            "Test Sample #32 <==========================\n",
            "Input:         : mt : oh , 365 , o número de dias num ano , o número de dias entre cada aniversário .\n",
            "Prediction     : mt : oh 365 , the number of days in a year , the number between every year .\n",
            "Ground truth   : mt : oh , 365 , the number of days in a year , the number of days between each birthday .\n",
            "\n",
            "Test Sample #33 <==========================\n",
            "Input:         : como disse peter lavine , o ser humano é um ser único habilitado com uma capacidade instintiva para curar e com o espírito intelectual para manter esta capacidade inata .\n",
            "Prediction     : as petervor , being human being and a unique to be able to elusivelyvocating with a provisional capacity to cure and with intellectual spirit to keep this inacfens .\n",
            "Ground truth   : as peter levine has said , the human animal is a unique being endowed with an instinctual capacity to heal and the intellectual spirit to harness this innate capacity .\n",
            "\n",
            "Test Sample #34 <==========================\n",
            "Input:         : o cortisol é tóxico e tolda-nos o pensamento .\n",
            "Prediction     : the color is featuring and toweep you and to the thought .\n",
            "Ground truth   : cortisol is toxic , and it causes cloudy thinking .\n",
            "\n",
            "Test Sample #35 <==========================\n",
            "Input:         : e às vezes , em casos mais extremos , mas não muito raros , eles costuram o orifício para que a menina possa apenas urinar ou menstruar .\n",
            "Prediction     : and sometimes , in more extreme cases , but not very rare , they constify them to the default may be just in charge or crinary or merrow .\n",
            "Ground truth   : and sometimes , in more extreme cases but not very rare cases , they sew the orifice up so the girl can just urinate or menstruate .\n",
            "\n",
            "Test Sample #36 <==========================\n",
            "Input:         : há sempre vestígios — não há nenhum crime perfeito .\n",
            "Prediction     : there ' s always ventig vents — there ' s no perfect crime .\n",
            "Ground truth   : there are always traces — no such thing as a perfect crime .\n",
            "\n",
            "Test Sample #37 <==========================\n",
            "Input:         : `` `` '' vai procurá-la atrás das montanhas . ''\n",
            "Prediction     : it ' s going to demand from mountains .\n",
            "Ground truth   : go and look behind the mountains .\n",
            "\n",
            "Test Sample #38 <==========================\n",
            "Input:         : ambos , adam e oz , pouparam uma hora .\n",
            "Prediction     : both , adam , they have saving an hour .\n",
            "Ground truth   : adam and oz both saved an hour of time .\n",
            "\n",
            "Test Sample #39 <==========================\n",
            "Input:         : claro que não ! têm que treinar 24/7 .\n",
            "Prediction     : of course , no ! you have to train 24 / 7 .\n",
            "Ground truth   : of course not ! you 've got to practice 24/7 .\n",
            "\n",
            "Test Sample #40 <==========================\n",
            "Input:         : logo a seguir , encontrei outra foto minha .\n",
            "Prediction     : so then i found another picture of my photo .\n",
            "Ground truth   : soon after that , i found in another picture that she had , a picture of me .\n",
            "\n",
            "Test Sample #41 <==========================\n",
            "Input:         : portanto , pensei , temos a fórmula pronta .\n",
            "Prediction     : so i thought , we have the ready formula .\n",
            "Ground truth   : so i was like , okay , so we 've got the formula ready .\n",
            "\n",
            "Test Sample #42 <==========================\n",
            "Input:         : parafraseando chavez , uma vez iniciada uma mudança social , esta não pode ser revertida .\n",
            "Prediction     : to begrastizz , once a social change , this ca n ' t be reversed .\n",
            "Ground truth   : to paraphrase chavez , once social change begins , it can not be reversed .\n",
            "\n",
            "Test Sample #43 <==========================\n",
            "Input:         : neste vídeo , podemos ver como um cateter muito fino leva a bobina até ao coração .\n",
            "Prediction     : in this video , we can see how a very thinester leads to heart to heart .\n",
            "Ground truth   : in this video , we can see how a very tiny catheter takes the coil to the heart .\n",
            "\n",
            "Test Sample #44 <==========================\n",
            "Input:         : e já agora , aquele café , aquele maravilhoso café que tomaram lá em baixo , na verdade imita o efeito dos neurotransmissores dos bebés .\n",
            "Prediction     : and now , that guy , that wonderful caff , which would take it down there in the truth , actually actually decorative effect of the babies .\n",
            "Ground truth   : and by the way , that coffee , that wonderful coffee you 've been drinking downstairs , actually mimics the effect of those baby neurotransmitters .\n",
            "\n",
            "Test Sample #45 <==========================\n",
            "Input:         : eles têm dinheiro e poder .\n",
            "Prediction     : they have money and power .\n",
            "Ground truth   : they have money and power .\n",
            "\n",
            "Test Sample #46 <==========================\n",
            "Input:         : eu não sou o meu pai .\n",
            "Prediction     : i ' m not my father .\n",
            "Ground truth   : i am not my father .\n",
            "\n",
            "Test Sample #47 <==========================\n",
            "Input:         : e isso afeta-nos a todos .\n",
            "Prediction     : and that affects us all .\n",
            "Ground truth   : and that affects all of us .\n",
            "\n",
            "Test Sample #48 <==========================\n",
            "Input:         : a este respeito , para membros da sociedade , não há maior honra ou privilégio do que facilitar o processo de cura de alguém , testemunhar , de estender uma mão , de partilhar o fardo do sofrimento de alguém , e de manter a esperança da sua recuperação .\n",
            "Prediction     : the respect for this , for society , there ' s no longer honoring greater privilege or a chance that facilitate the cure of someone , to witness is to be a hand , to share the suffering of the suffering of anyone ' s loss of their recovery .\n",
            "Ground truth   : in this respect , for members of society , there is no greater honor or privilege than facilitating that process of healing for someone , to bear witness , to reach out a hand , to share the burden of someone 's suffering , and to hold the hope for their recovery .\n",
            "\n",
            "Test Sample #49 <==========================\n",
            "Input:         : sabemos mais do que eles ?\n",
            "Prediction     : do we know more than they ?\n",
            "Ground truth   : do we know better than them ?\n",
            "\n",
            "Test Sample #50 <==========================\n",
            "Input:         : ( risos ) parece-me que todos vocês são tocs , astrofísicos e ultramaratonistas .\n",
            "Prediction     : ( laughter ) it seems to me that you ' re all of them are toxic and ultrasound .\n",
            "Ground truth   : ( laughter ) you 're all cfo , astrophysicists , ultra-marathoners , it turns out .\n"
          ]
        }
      ],
      "source": [
        "Index = 1\n",
        "for test in test_examples.take(50):\n",
        "    print(f\"\\nTest Sample #{Index} <==========================\")\n",
        "    pt = test[0].numpy().decode(\"utf-8\")\n",
        "    en = test[1].numpy().decode(\"utf-8\")\n",
        "    translated_text, translated_tokens, attention_weights = translator(\n",
        "        tf.constant(pt))\n",
        "    print_translation(pt, translated_text, en)\n",
        "    Index += 1"
      ]
    },
    {
      "cell_type": "code",
      "execution_count": null,
      "metadata": {},
      "outputs": [],
      "source": []
    },
    {
      "cell_type": "code",
      "execution_count": null,
      "metadata": {},
      "outputs": [],
      "source": []
    }
  ],
  "metadata": {
    "accelerator": "GPU",
    "colab": {
      "collapsed_sections": [],
      "name": "source.ipynb",
      "provenance": []
    },
    "gpuClass": "standard",
    "kernelspec": {
      "display_name": "Python 3.9.12 ('tensorflow_env')",
      "language": "python",
      "name": "python3"
    },
    "language_info": {
      "codemirror_mode": {
        "name": "ipython",
        "version": 3
      },
      "file_extension": ".py",
      "mimetype": "text/x-python",
      "name": "python",
      "nbconvert_exporter": "python",
      "pygments_lexer": "ipython3",
      "version": "3.9.12"
    },
    "orig_nbformat": 4,
    "vscode": {
      "interpreter": {
        "hash": "ce6d309b248411180cac74827c3e3a782bdc72ca202897ccb8c0b7be54b71135"
      }
    }
  },
  "nbformat": 4,
  "nbformat_minor": 0
}
