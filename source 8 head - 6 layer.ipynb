{
  "cells": [
    {
      "cell_type": "code",
      "execution_count": 1,
      "metadata": {
        "id": "eOX9pnYR8thF"
      },
      "outputs": [
        {
          "name": "stderr",
          "output_type": "stream",
          "text": [
            "c:\\ProgramData\\Anaconda3\\envs\\tensorflow_env\\lib\\site-packages\\tqdm\\auto.py:22: TqdmWarning: IProgress not found. Please update jupyter and ipywidgets. See https://ipywidgets.readthedocs.io/en/stable/user_install.html\n",
            "  from .autonotebook import tqdm as notebook_tqdm\n"
          ]
        }
      ],
      "source": [
        "import numpy as np \n",
        "import tensorflow as tf \n",
        "from tensorflow import keras \n",
        "import matplotlib.pyplot as plt \n",
        "import seaborn as sns \n",
        "import tensorflow_datasets as tfds \n",
        "import time\n",
        "import logging\n",
        "import time\n",
        "\n",
        "import numpy as np\n",
        "import matplotlib.pyplot as plt\n",
        "\n",
        "import tensorflow_datasets as tfds\n",
        "import tensorflow as tf\n",
        "# Import tf_text to load the ops used by the tokenizer saved model\n",
        "import tensorflow_text  # pylint: disable=unused-import"
      ]
    },
    {
      "cell_type": "markdown",
      "metadata": {},
      "source": [
        "# Loading dataset and preprocess"
      ]
    },
    {
      "cell_type": "markdown",
      "metadata": {
        "id": "2gCaeO1_8thI"
      },
      "source": [
        "### Loading dataset "
      ]
    },
    {
      "cell_type": "code",
      "execution_count": 2,
      "metadata": {
        "id": "2Hzv3C8M8thK"
      },
      "outputs": [],
      "source": [
        "split = ['train[:5%]', 'test','validation']\n",
        "examples, metadata = tfds.load('ted_hrlr_translate/pt_to_en', with_info=True,\n",
        "                               as_supervised=True)\n",
        "\n",
        "train_examples, val_examples, test_examples = examples['train'], examples['validation'], examples['test']\n"
      ]
    },
    {
      "cell_type": "markdown",
      "metadata": {},
      "source": [
        "### Loading tokenizers"
      ]
    },
    {
      "cell_type": "code",
      "execution_count": 3,
      "metadata": {
        "id": "r6888kjw8thL"
      },
      "outputs": [],
      "source": [
        "model_name = 'ted_hrlr_translate_pt_en_converter'\n",
        "tf.keras.utils.get_file(f'{model_name}.zip', f'https://storage.googleapis.com/download.tensorflow.org/models/{model_name}.zip',cache_dir='.', cache_subdir='', extract=True)\n",
        "tokenizers = tf.saved_model.load(model_name)"
      ]
    },
    {
      "cell_type": "code",
      "execution_count": 4,
      "metadata": {
        "colab": {
          "base_uri": "https://localhost:8080/",
          "height": 298
        },
        "id": "3hyplzuC8thM",
        "outputId": "ae9a7472-571b-451e-837b-cc21f2639c17"
      },
      "outputs": [
        {
          "data": {
            "image/png": "[encoded data removed]",
            "text/plain": [
              "<Figure size 432x288 with 1 Axes>"
            ]
          },
          "metadata": {
            "needs_background": "light"
          },
          "output_type": "display_data"
        }
      ],
      "source": [
        "sns.set_style(\"darkgrid\")\n",
        "plt.rcParams[\"figure.figsize\"] = (8, 6)\n",
        "\n",
        "lengths = []\n",
        "for pt_examples, en_examples in train_examples.batch(1024):\n",
        "  pt_tokens = tokenizers.en.tokenize(pt_examples)\n",
        "  lengths.append(pt_tokens.row_lengths())\n",
        "\n",
        "  en_tokens = tokenizers.en.tokenize(en_examples)\n",
        "  lengths.append(en_tokens.row_lengths())\n",
        "  all_lengths = np.concatenate(lengths)\n",
        "\n",
        "plt.hist(all_lengths, np.linspace(0, 500, 101))\n",
        "plt.ylim(plt.ylim())\n",
        "max_length = max(all_lengths)\n",
        "plt.plot([max_length, max_length], plt.ylim(),color=\"red\")\n",
        "plt.title(f'Max tokens per example: {max_length}')\n",
        "plt.ylabel(\"#Frequency\")\n",
        "plt.xlabel(\"Count of token in Sequence\")\n",
        "plt.show()\n"
      ]
    },
    {
      "cell_type": "markdown",
      "metadata": {},
      "source": [
        "### Global static variables for batching"
      ]
    },
    {
      "cell_type": "code",
      "execution_count": 5,
      "metadata": {
        "id": "LWNetgzV8thO"
      },
      "outputs": [],
      "source": [
        "MAX_TOKENS = 128 ### based on above chart\n",
        "BUFFER_SIZE = 20000\n",
        "BATCH_SIZE = 128"
      ]
    },
    {
      "cell_type": "markdown",
      "metadata": {},
      "source": [
        "### Batching dataset"
      ]
    },
    {
      "cell_type": "code",
      "execution_count": 6,
      "metadata": {
        "id": "EOtgoXGb8thP"
      },
      "outputs": [],
      "source": [
        "def filter_max_tokens(pt, en):\n",
        "    num_tokens = tf.maximum(tf.shape(pt)[1],tf.shape(en)[1])\n",
        "    return num_tokens < MAX_TOKENS\n",
        "\n",
        "def tokenize_pairs(pt, en):\n",
        "    pt = tokenizers.pt.tokenize(pt)\n",
        "    pt = pt.to_tensor()\n",
        "    en = tokenizers.en.tokenize(en)\n",
        "    en = en.to_tensor()\n",
        "    return pt, en\n",
        "\n",
        "def generate_batches(dataset):\n",
        "    return (\n",
        "      dataset\n",
        "      .cache()\n",
        "      .shuffle(BUFFER_SIZE)\n",
        "      .batch(BATCH_SIZE)\n",
        "      .map(tokenize_pairs, num_parallel_calls=tf.data.AUTOTUNE)\n",
        "      .filter(filter_max_tokens)\n",
        "      .prefetch(tf.data.AUTOTUNE))\n",
        "\n",
        "\n",
        "train_batches = generate_batches(train_examples)\n",
        "val_batches = generate_batches(val_examples)\n",
        "test_batches = generate_batches(test_examples)\n"
      ]
    },
    {
      "cell_type": "markdown",
      "metadata": {},
      "source": [
        "### Positional embedding"
      ]
    },
    {
      "cell_type": "code",
      "execution_count": 7,
      "metadata": {
        "id": "bul-L3A68thP"
      },
      "outputs": [],
      "source": [
        "def get_angles(pos, i, d_model):\n",
        "    angle_rates = 1 / np.power(10000, (2 * (i//2)) / np.float32(d_model))\n",
        "    return pos * angle_rates\n",
        "\n",
        "def positional_encoding(position, d_model):\n",
        "    angle_rads = get_angles(np.arange(position)[:, np.newaxis],\n",
        "                          np.arange(d_model)[np.newaxis, :],\n",
        "                          d_model)\n",
        "\n",
        "    angle_rads[:, 0::2] = np.sin(angle_rads[:, 0::2])\n",
        "    angle_rads[:, 1::2] = np.cos(angle_rads[:, 1::2])\n",
        "    pos_encoding = angle_rads[np.newaxis, ...]\n",
        "\n",
        "    return tf.cast(pos_encoding, dtype=tf.float32)"
      ]
    },
    {
      "cell_type": "markdown",
      "metadata": {},
      "source": [
        "### Maskikng the attentions"
      ]
    },
    {
      "cell_type": "code",
      "execution_count": 8,
      "metadata": {
        "id": "JrB9d6NE8thR"
      },
      "outputs": [],
      "source": [
        "def create_padding_mask(seq):\n",
        "    seq = tf.cast(tf.math.equal(seq, 0), tf.float32)\n",
        "    return seq[:, tf.newaxis, tf.newaxis, :] \n",
        "\n",
        "\n",
        "def create_look_ahead_mask(size):\n",
        "    mask = 1 - tf.linalg.band_part(tf.ones((size, size)), -1, 0)\n",
        "    return mask "
      ]
    },
    {
      "cell_type": "markdown",
      "metadata": {},
      "source": [
        "# Attention Implementation"
      ]
    },
    {
      "cell_type": "markdown",
      "metadata": {},
      "source": [
        "### Attention weights"
      ]
    },
    {
      "cell_type": "code",
      "execution_count": 9,
      "metadata": {
        "id": "KLU2wQ748thR"
      },
      "outputs": [],
      "source": [
        "def scaled_dot_product_attention(q, k, v, mask):\n",
        "        matmul_qk = tf.matmul(q, k, transpose_b=True) \n",
        "\n",
        "\n",
        "        dk = tf.cast(tf.shape(k)[-1], tf.float32)\n",
        "        scaled_attention_logits = matmul_qk / tf.math.sqrt(dk)\n",
        "\n",
        "        if mask is not None:\n",
        "            scaled_attention_logits += (mask * -1e9)\n",
        "\n",
        "        attention_weights = tf.nn.softmax(scaled_attention_logits, axis=-1)  # (..., seq_len_q, seq_len_k)\n",
        "\n",
        "        output = tf.matmul(attention_weights, v)  # (..., seq_len_q, depth_v)\n",
        "\n",
        "        return output, attention_weights"
      ]
    },
    {
      "cell_type": "markdown",
      "metadata": {},
      "source": [
        "### Multi-Head Attention"
      ]
    },
    {
      "cell_type": "code",
      "execution_count": 10,
      "metadata": {
        "id": "lmyt1ma08thS"
      },
      "outputs": [],
      "source": [
        "class MultiHeadAttention(tf.keras.layers.Layer):\n",
        "    def __init__(self,*, d_model, num_heads):\n",
        "        super(MultiHeadAttention, self).__init__()\n",
        "        self.num_heads = num_heads\n",
        "        self.d_model = d_model\n",
        "\n",
        "        assert d_model % self.num_heads == 0\n",
        "\n",
        "        self.depth = d_model // self.num_heads\n",
        "\n",
        "        self.wq = tf.keras.layers.Dense(d_model)\n",
        "        self.wk = tf.keras.layers.Dense(d_model)\n",
        "        self.wv = tf.keras.layers.Dense(d_model)\n",
        "\n",
        "        self.dense = tf.keras.layers.Dense(d_model)\n",
        "\n",
        "    def split_heads(self, x, batch_size):\n",
        "        x = tf.reshape(x, (batch_size, -1, self.num_heads, self.depth))\n",
        "        return tf.transpose(x, perm=[0, 2, 1, 3])\n",
        "\n",
        "    def call(self, v, k, q, mask):\n",
        "        batch_size = tf.shape(q)[0]\n",
        "\n",
        "        q = self.wq(q)  \n",
        "        k = self.wk(k) \n",
        "        v = self.wv(v)  \n",
        "\n",
        "        q = self.split_heads(q, batch_size)  \n",
        "        k = self.split_heads(k, batch_size) \n",
        "        v = self.split_heads(v, batch_size) \n",
        "\n",
        "\n",
        "        scaled_attention, attention_weights = scaled_dot_product_attention(q, k, v, mask)\n",
        "\n",
        "        scaled_attention = tf.transpose(scaled_attention, perm=[0, 2, 1, 3])  \n",
        "\n",
        "        concat_attention = tf.reshape(scaled_attention,(batch_size, -1, self.d_model))  \n",
        "        output = self.dense(concat_attention)  \n",
        "\n",
        "        return output, attention_weights"
      ]
    },
    {
      "cell_type": "markdown",
      "metadata": {},
      "source": [
        "# Transformer Implementations"
      ]
    },
    {
      "cell_type": "markdown",
      "metadata": {},
      "source": [
        "### Feed forward network"
      ]
    },
    {
      "cell_type": "code",
      "execution_count": 11,
      "metadata": {
        "id": "qkd1CJdF8thT"
      },
      "outputs": [],
      "source": [
        "def point_wise_feed_forward_network(d_model, dff):\n",
        "    model = keras.models.Sequential()\n",
        "    model.add(keras.layers.Dense(dff, activation='relu')) # (batch_size, seq_len, dff)\n",
        "    model.add(tf.keras.layers.Dense(d_model)) # (batch_size, seq_len, d_model)\n",
        "    return model "
      ]
    },
    {
      "cell_type": "markdown",
      "metadata": {},
      "source": [
        "### Encoder Implementation"
      ]
    },
    {
      "cell_type": "code",
      "execution_count": 12,
      "metadata": {
        "id": "MM_4MI6e8thT"
      },
      "outputs": [],
      "source": [
        "class EncoderLayer(tf.keras.layers.Layer):\n",
        "    def __init__(self,*, d_model, num_heads, dff, rate=0.1):\n",
        "        super(EncoderLayer, self).__init__()\n",
        "        self.mha = MultiHeadAttention(d_model=d_model, num_heads=num_heads)\n",
        "        self.ffn = point_wise_feed_forward_network(d_model, dff)\n",
        "        \n",
        "        self.layernorm1 = tf.keras.layers.LayerNormalization(epsilon=1e-6)\n",
        "        self.layernorm2 = tf.keras.layers.LayerNormalization(epsilon=1e-6)\n",
        "\n",
        "        self.dropout1 = tf.keras.layers.Dropout(rate)\n",
        "        self.dropout2 = tf.keras.layers.Dropout(rate)\n",
        "\n",
        "    def call(self, x, training, mask):\n",
        "        attn_output, _ = self.mha(x, x, x, mask)  # (batch_size, input_seq_len, d_model)\n",
        "        attn_output = self.dropout1(attn_output, training=training)\n",
        "        out1 = self.layernorm1(x + attn_output)  # (batch_size, input_seq_len, d_model)\n",
        "\n",
        "        ffn_output = self.ffn(out1)  # (batch_size, input_seq_len, d_model)\n",
        "        ffn_output = self.dropout2(ffn_output, training=training)\n",
        "        out2 = self.layernorm2(out1 + ffn_output)  # (batch_size, input_seq_len, d_model)\n",
        "        return out2"
      ]
    },
    {
      "cell_type": "code",
      "execution_count": 13,
      "metadata": {},
      "outputs": [],
      "source": [
        "class Encoder(tf.keras.layers.Layer):\n",
        "    def __init__(self,*, num_layers, d_model, num_heads, dff, input_vocab_size,rate=0.1):\n",
        "        super(Encoder, self).__init__()\n",
        "\n",
        "        self.d_model = d_model\n",
        "        self.num_layers = num_layers\n",
        "\n",
        "        self.embedding = tf.keras.layers.Embedding(input_vocab_size, d_model)\n",
        "        self.pos_encoding = positional_encoding(MAX_TOKENS, self.d_model)\n",
        "        self.enc_layers = [EncoderLayer(d_model=d_model, num_heads=num_heads, dff=dff, rate=rate) for _ in range(num_layers)]\n",
        "\n",
        "        self.dropout = tf.keras.layers.Dropout(rate)\n",
        "\n",
        "    def call(self, x, training, mask):\n",
        "        seq_len = tf.shape(x)[1]\n",
        "\n",
        "        x = self.embedding(x) \n",
        "        x *= tf.math.sqrt(tf.cast(self.d_model, tf.float32))\n",
        "        x += self.pos_encoding[:, :seq_len, :]\n",
        "\n",
        "        x = self.dropout(x, training=training)\n",
        "\n",
        "        for i in range(self.num_layers):\n",
        "            x = self.enc_layers[i](x, training, mask)\n",
        "\n",
        "        return x "
      ]
    },
    {
      "cell_type": "markdown",
      "metadata": {},
      "source": [
        "### Decoder Implementation"
      ]
    },
    {
      "cell_type": "code",
      "execution_count": 14,
      "metadata": {
        "id": "-BVwepIm8thU"
      },
      "outputs": [],
      "source": [
        "class DecoderLayer(tf.keras.layers.Layer):\n",
        "    def __init__(self,*, d_model, num_heads, dff, rate=0.1):\n",
        "        super(DecoderLayer, self).__init__()\n",
        "        self.mha1 = MultiHeadAttention(d_model=d_model, num_heads=num_heads)\n",
        "        self.mha2 = MultiHeadAttention(d_model=d_model, num_heads=num_heads)\n",
        "\n",
        "        self.ffn = point_wise_feed_forward_network(d_model, dff)\n",
        "\n",
        "        self.layernorm1 = tf.keras.layers.LayerNormalization(epsilon=1e-6)\n",
        "        self.layernorm2 = tf.keras.layers.LayerNormalization(epsilon=1e-6)\n",
        "        self.layernorm3 = tf.keras.layers.LayerNormalization(epsilon=1e-6)\n",
        "\n",
        "        self.dropout1 = tf.keras.layers.Dropout(rate)\n",
        "        self.dropout2 = tf.keras.layers.Dropout(rate)\n",
        "        self.dropout3 = tf.keras.layers.Dropout(rate)\n",
        "\n",
        "    def call(self, x, enc_output, training,look_ahead_mask, padding_mask):\n",
        "        # enc_output.shape == (batch_size, input_seq_len, d_model)\n",
        "\n",
        "        attn1, attn_weights_block1 = self.mha1(x, x, x, look_ahead_mask)  \n",
        "        attn1 = self.dropout1(attn1, training=training)\n",
        "        out1 = self.layernorm1(attn1 + x)\n",
        "\n",
        "        attn2, attn_weights_block2 = self.mha2(enc_output, enc_output, out1, padding_mask) \n",
        "        attn2 = self.dropout2(attn2, training=training)\n",
        "        out2 = self.layernorm2(attn2 + out1)  \n",
        "\n",
        "        ffn_output = self.ffn(out2)  \n",
        "        ffn_output = self.dropout3(ffn_output, training=training)\n",
        "        out3 = self.layernorm3(ffn_output + out2) \n",
        "\n",
        "        return out3, attn_weights_block1, attn_weights_block2"
      ]
    },
    {
      "cell_type": "code",
      "execution_count": 15,
      "metadata": {
        "id": "zpGgQRtr8thV"
      },
      "outputs": [],
      "source": [
        "class Decoder(tf.keras.layers.Layer):\n",
        "    def __init__(self,*, num_layers, d_model, num_heads, dff, target_vocab_size,rate=0.1):\n",
        "        super(Decoder, self).__init__()\n",
        "        self.d_model = d_model\n",
        "        self.num_layers = num_layers\n",
        "\n",
        "        self.embedding = tf.keras.layers.Embedding(target_vocab_size, d_model)\n",
        "        self.pos_encoding = positional_encoding(MAX_TOKENS, d_model)\n",
        "\n",
        "        self.dec_layers = [DecoderLayer(d_model=d_model, num_heads=num_heads, dff=dff, rate=rate) for _ in range(num_layers)]\n",
        "        self.dropout = tf.keras.layers.Dropout(rate)\n",
        "\n",
        "    def call(self, x, enc_output, training,look_ahead_mask, padding_mask):\n",
        "        seq_len = tf.shape(x)[1]\n",
        "        attention_weights = {}\n",
        "\n",
        "        x = self.embedding(x)  # (batch_size, target_seq_len, d_model)\n",
        "        x *= tf.math.sqrt(tf.cast(self.d_model, tf.float32))\n",
        "        x += self.pos_encoding[:, :seq_len, :]\n",
        "\n",
        "        x = self.dropout(x, training=training)\n",
        "\n",
        "        for i in range(self.num_layers):\n",
        "            x, block1, block2 = self.dec_layers[i](x, enc_output, training,\n",
        "                                                look_ahead_mask, padding_mask)\n",
        "\n",
        "            attention_weights[f'decoder_layer{i+1}_block1'] = block1\n",
        "            attention_weights[f'decoder_layer{i+1}_block2'] = block2\n",
        "\n",
        "        # x.shape == (batch_size, target_seq_len, d_model)\n",
        "        return x, attention_weights"
      ]
    },
    {
      "cell_type": "markdown",
      "metadata": {},
      "source": [
        "### Transformer Model Implementation"
      ]
    },
    {
      "cell_type": "code",
      "execution_count": 16,
      "metadata": {
        "id": "2CA914SM8thV"
      },
      "outputs": [],
      "source": [
        "class Transformer(tf.keras.Model):\n",
        "    def __init__(self,*, num_layers, d_model, num_heads, dff, input_vocab_size,target_vocab_size, rate=0.1):\n",
        "        super().__init__()\n",
        "        self.encoder = Encoder(num_layers=num_layers, d_model=d_model,num_heads=num_heads, dff=dff,input_vocab_size=input_vocab_size, rate=rate)\n",
        "        self.decoder = Decoder(num_layers=num_layers, d_model=d_model,num_heads=num_heads, dff=dff,target_vocab_size=target_vocab_size, rate=rate)\n",
        "        self.final_layer = tf.keras.layers.Dense(target_vocab_size)\n",
        "\n",
        "    def call(self, inputs, training):\n",
        "        inp, tar = inputs\n",
        "        padding_mask, look_ahead_mask = self.create_masks(inp, tar)\n",
        "        enc_output = self.encoder(inp, training, padding_mask) \n",
        "\n",
        "        dec_output, attention_weights = self.decoder(tar, enc_output, training, look_ahead_mask, padding_mask)\n",
        "        final_output = self.final_layer(dec_output)  \n",
        "\n",
        "        return final_output, attention_weights\n",
        "\n",
        "    def create_masks(self, inp, tar):\n",
        "        padding_mask = create_padding_mask(inp)\n",
        "\n",
        "        look_ahead_mask = create_look_ahead_mask(tf.shape(tar)[1])\n",
        "        dec_target_padding_mask = create_padding_mask(tar)\n",
        "        look_ahead_mask = tf.maximum(dec_target_padding_mask, look_ahead_mask)\n",
        "        return padding_mask, look_ahead_mask"
      ]
    },
    {
      "cell_type": "markdown",
      "metadata": {},
      "source": [
        "# Build models and related functions(loss,optimizer,...) & Train"
      ]
    },
    {
      "cell_type": "markdown",
      "metadata": {},
      "source": [
        "### Define detail of the network architecture"
      ]
    },
    {
      "cell_type": "code",
      "execution_count": 17,
      "metadata": {
        "id": "lYCtMxKA8thV"
      },
      "outputs": [],
      "source": [
        "num_layers = 6\n",
        "d_model = 128\n",
        "dff = 512\n",
        "num_heads = 8\n",
        "dropout_rate = 0.1\n",
        "EPOCHS = 20\n"
      ]
    },
    {
      "cell_type": "markdown",
      "metadata": {},
      "source": [
        "### Optimizer Implementation"
      ]
    },
    {
      "cell_type": "code",
      "execution_count": 18,
      "metadata": {
        "id": "I6UgYa_m8thW"
      },
      "outputs": [
        {
          "data": {
            "image/png": "[encoded data removed]",
            "text/plain": [
              "<Figure size 432x288 with 1 Axes>"
            ]
          },
          "metadata": {
            "needs_background": "light"
          },
          "output_type": "display_data"
        }
      ],
      "source": [
        "class CustomSchedule(tf.keras.optimizers.schedules.LearningRateSchedule):\n",
        "    def __init__(self, d_model, warmup_steps=4000):\n",
        "        super(CustomSchedule, self).__init__()\n",
        "\n",
        "        self.d_model = d_model\n",
        "        self.d_model = tf.cast(self.d_model, tf.float32)\n",
        "\n",
        "        self.warmup_steps = warmup_steps\n",
        "\n",
        "    def __call__(self, step):\n",
        "        arg1 = tf.math.rsqrt(step)\n",
        "        arg2 = step * (self.warmup_steps ** -1.5)\n",
        "        return tf.math.rsqrt(self.d_model) * tf.math.minimum(arg1, arg2)\n",
        "\n",
        "learning_rate = CustomSchedule(d_model)\n",
        "optimizer = tf.keras.optimizers.Adam(learning_rate, beta_1=0.9, beta_2=0.98, epsilon=1e-9)\n",
        "temp_learning_rate_schedule = CustomSchedule(d_model)\n",
        "plt.plot(temp_learning_rate_schedule(tf.range(50000, dtype=tf.float32)))\n",
        "plt.title(\"Learning Rate Scheduler\")\n",
        "plt.ylabel('Learning Rate')\n",
        "plt.xlabel('Train Step')\n",
        "plt.show()"
      ]
    },
    {
      "cell_type": "markdown",
      "metadata": {},
      "source": [
        "### Loss Implementation"
      ]
    },
    {
      "cell_type": "code",
      "execution_count": 19,
      "metadata": {
        "id": "tqhpjdxK8thX"
      },
      "outputs": [],
      "source": [
        "loss_object = tf.keras.losses.SparseCategoricalCrossentropy(from_logits=True, reduction='none')\n",
        "\n",
        "def loss_function(real, pred):\n",
        "    mask = tf.math.logical_not(tf.math.equal(real, 0))\n",
        "    loss_ = loss_object(real, pred)\n",
        "\n",
        "    mask = tf.cast(mask, dtype=loss_.dtype)\n",
        "    loss_ *= mask\n",
        "    \n",
        "    return tf.reduce_sum(loss_)/tf.reduce_sum(mask)\n",
        "\n",
        "\n",
        "def accuracy_function(real, pred):\n",
        "    accuracies = tf.equal(real, tf.argmax(pred, axis=2))\n",
        "\n",
        "    mask = tf.math.logical_not(tf.math.equal(real, 0))\n",
        "    accuracies = tf.math.logical_and(mask, accuracies)\n",
        "\n",
        "    accuracies = tf.cast(accuracies, dtype=tf.float32)\n",
        "    mask = tf.cast(mask, dtype=tf.float32)\n",
        "    return tf.reduce_sum(accuracies)/tf.reduce_sum(mask)\n",
        "\n",
        "\n",
        "train_loss = tf.keras.metrics.Mean(name='train_loss')\n",
        "train_accuracy = tf.keras.metrics.Mean(name='train_accuracy')\n",
        "\n"
      ]
    },
    {
      "cell_type": "markdown",
      "metadata": {},
      "source": [
        "### Build a transformer model"
      ]
    },
    {
      "cell_type": "code",
      "execution_count": 20,
      "metadata": {
        "id": "MJXGmZ6u8thY"
      },
      "outputs": [],
      "source": [
        "transformer = Transformer(\n",
        "    num_layers=num_layers,\n",
        "    d_model=d_model,\n",
        "    num_heads=num_heads,\n",
        "    dff=dff,\n",
        "    input_vocab_size=tokenizers.pt.get_vocab_size().numpy(),\n",
        "    target_vocab_size=tokenizers.en.get_vocab_size().numpy(),\n",
        "    rate=dropout_rate)"
      ]
    },
    {
      "cell_type": "markdown",
      "metadata": {},
      "source": [
        "### Train on batch"
      ]
    },
    {
      "cell_type": "code",
      "execution_count": 21,
      "metadata": {
        "id": "8VPFTvLy8thY"
      },
      "outputs": [],
      "source": [
        "train_step_signature = [\n",
        "    tf.TensorSpec(shape=(None, None), dtype=tf.int64),\n",
        "    tf.TensorSpec(shape=(None, None), dtype=tf.int64),\n",
        "]\n",
        "\n",
        "\n",
        "@tf.function(input_signature=train_step_signature)\n",
        "def train_step(inp, tar):\n",
        "    tar_inp = tar[:, :-1]\n",
        "    tar_real = tar[:, 1:]\n",
        "\n",
        "    with tf.GradientTape() as tape:\n",
        "        predictions, _ = transformer([inp, tar_inp],training = True)\n",
        "        loss = loss_function(tar_real, predictions)\n",
        "\n",
        "    gradients = tape.gradient(loss, transformer.trainable_variables)\n",
        "    optimizer.apply_gradients(zip(gradients, transformer.trainable_variables))\n",
        "\n",
        "    train_loss(loss)\n",
        "    train_accuracy(accuracy_function(tar_real, predictions))"
      ]
    },
    {
      "cell_type": "markdown",
      "metadata": {},
      "source": [
        "### Train loop"
      ]
    },
    {
      "cell_type": "code",
      "execution_count": 22,
      "metadata": {
        "colab": {
          "base_uri": "https://localhost:8080/"
        },
        "id": "QZDwBkaa8thZ",
        "outputId": "ae298118-f865-4aae-c907-88115011d942"
      },
      "outputs": [
        {
          "name": "stdout",
          "output_type": "stream",
          "text": [
            "Epoch 1 Batch 0 Loss 8.8947 Accuracy 0.0000\n",
            "Epoch 1 Batch 50 Loss 8.8240 Accuracy 0.0020\n",
            "Epoch 1 Batch 100 Loss 8.7152 Accuracy 0.0235\n",
            "Epoch 1 Batch 150 Loss 8.5960 Accuracy 0.0356\n",
            "Epoch 1 Batch 200 Loss 8.4475 Accuracy 0.0452\n",
            "Epoch 1 Batch 250 Loss 8.2684 Accuracy 0.0550\n",
            "Epoch 1 Loss 8.0727 Accuracy 0.0647\n",
            "Time taken for 1 epoch: 94.41 secs\n",
            "\n",
            "Epoch 2 Batch 0 Loss 6.7946 Accuracy 0.1185\n",
            "Epoch 2 Batch 50 Loss 6.6404 Accuracy 0.1277\n",
            "Epoch 2 Batch 100 Loss 6.4905 Accuracy 0.1297\n",
            "Epoch 2 Batch 150 Loss 6.3801 Accuracy 0.1306\n",
            "Epoch 2 Batch 200 Loss 6.2922 Accuracy 0.1329\n",
            "Epoch 2 Batch 250 Loss 6.2100 Accuracy 0.1365\n",
            "Epoch 2 Batch 300 Loss 6.1301 Accuracy 0.1407\n",
            "Epoch 2 Loss 6.1255 Accuracy 0.1409\n",
            "Time taken for 1 epoch: 86.64 secs\n",
            "\n",
            "Epoch 3 Batch 0 Loss 5.5745 Accuracy 0.1795\n",
            "Epoch 3 Batch 50 Loss 5.5828 Accuracy 0.1813\n",
            "Epoch 3 Batch 100 Loss 5.5216 Accuracy 0.1873\n",
            "Epoch 3 Batch 150 Loss 5.4620 Accuracy 0.1916\n",
            "Epoch 3 Batch 200 Loss 5.4108 Accuracy 0.1955\n",
            "Epoch 3 Batch 250 Loss 5.3655 Accuracy 0.1995\n",
            "Epoch 3 Batch 300 Loss 5.3256 Accuracy 0.2033\n",
            "Epoch 3 Loss 5.3202 Accuracy 0.2039\n",
            "Time taken for 1 epoch: 88.04 secs\n",
            "\n",
            "Epoch 4 Batch 0 Loss 4.8482 Accuracy 0.2511\n",
            "Epoch 4 Batch 50 Loss 5.0260 Accuracy 0.2322\n",
            "Epoch 4 Batch 100 Loss 5.0150 Accuracy 0.2332\n",
            "Epoch 4 Batch 150 Loss 4.9848 Accuracy 0.2361\n",
            "Epoch 4 Batch 200 Loss 4.9627 Accuracy 0.2384\n",
            "Epoch 4 Batch 250 Loss 4.9392 Accuracy 0.2405\n",
            "Epoch 4 Batch 300 Loss 4.9155 Accuracy 0.2432\n",
            "Epoch 4 Loss 4.9129 Accuracy 0.2435\n",
            "Time taken for 1 epoch: 87.53 secs\n",
            "\n",
            "Epoch 5 Batch 0 Loss 4.8409 Accuracy 0.2524\n",
            "Epoch 5 Batch 50 Loss 4.7547 Accuracy 0.2573\n",
            "Epoch 5 Batch 100 Loss 4.7297 Accuracy 0.2593\n",
            "Epoch 5 Batch 150 Loss 4.7132 Accuracy 0.2604\n",
            "Epoch 5 Batch 200 Loss 4.6931 Accuracy 0.2625\n",
            "Epoch 5 Batch 250 Loss 4.6756 Accuracy 0.2640\n",
            "Epoch 5 Batch 300 Loss 4.6620 Accuracy 0.2651\n",
            "Epoch 5 Loss 4.6596 Accuracy 0.2653\n",
            "Time taken for 1 epoch: 86.84 secs\n",
            "\n",
            "Epoch 6 Batch 0 Loss 4.4088 Accuracy 0.2893\n",
            "Epoch 6 Batch 50 Loss 4.5455 Accuracy 0.2733\n",
            "Epoch 6 Batch 100 Loss 4.5098 Accuracy 0.2764\n",
            "Epoch 6 Batch 150 Loss 4.4993 Accuracy 0.2771\n",
            "Epoch 6 Batch 200 Loss 4.4880 Accuracy 0.2781\n",
            "Epoch 6 Batch 250 Loss 4.4733 Accuracy 0.2794\n",
            "Epoch 6 Batch 300 Loss 4.4625 Accuracy 0.2797\n",
            "Epoch 6 Loss 4.4613 Accuracy 0.2798\n",
            "Time taken for 1 epoch: 88.37 secs\n",
            "\n",
            "Epoch 7 Batch 0 Loss 4.2916 Accuracy 0.2834\n",
            "Epoch 7 Batch 50 Loss 4.3294 Accuracy 0.2912\n",
            "Epoch 7 Batch 100 Loss 4.3282 Accuracy 0.2913\n",
            "Epoch 7 Batch 150 Loss 4.3180 Accuracy 0.2916\n",
            "Epoch 7 Batch 200 Loss 4.3109 Accuracy 0.2920\n",
            "Epoch 7 Batch 250 Loss 4.3021 Accuracy 0.2929\n",
            "Epoch 7 Batch 300 Loss 4.2958 Accuracy 0.2934\n",
            "Epoch 7 Loss 4.2958 Accuracy 0.2934\n",
            "Time taken for 1 epoch: 86.42 secs\n",
            "\n",
            "Epoch 8 Batch 0 Loss 4.1602 Accuracy 0.3099\n",
            "Epoch 8 Batch 50 Loss 4.1918 Accuracy 0.2995\n",
            "Epoch 8 Batch 100 Loss 4.1865 Accuracy 0.2998\n",
            "Epoch 8 Batch 150 Loss 4.1786 Accuracy 0.3009\n",
            "Epoch 8 Batch 200 Loss 4.1695 Accuracy 0.3023\n",
            "Epoch 8 Batch 250 Loss 4.1636 Accuracy 0.3029\n",
            "Epoch 8 Batch 300 Loss 4.1569 Accuracy 0.3036\n",
            "Epoch 8 Loss 4.1567 Accuracy 0.3035\n",
            "Time taken for 1 epoch: 88.16 secs\n",
            "\n",
            "Epoch 9 Batch 0 Loss 3.9702 Accuracy 0.3207\n",
            "Epoch 9 Batch 50 Loss 4.0542 Accuracy 0.3086\n",
            "Epoch 9 Batch 100 Loss 4.0362 Accuracy 0.3109\n",
            "Epoch 9 Batch 150 Loss 4.0363 Accuracy 0.3111\n",
            "Epoch 9 Batch 200 Loss 4.0333 Accuracy 0.3113\n",
            "Epoch 9 Batch 250 Loss 4.0315 Accuracy 0.3118\n",
            "Epoch 9 Batch 300 Loss 4.0294 Accuracy 0.3122\n",
            "Epoch 9 Loss 4.0288 Accuracy 0.3123\n",
            "Time taken for 1 epoch: 88.42 secs\n",
            "\n",
            "Epoch 10 Batch 0 Loss 3.9951 Accuracy 0.3012\n",
            "Epoch 10 Batch 50 Loss 3.9403 Accuracy 0.3184\n",
            "Epoch 10 Batch 100 Loss 3.9278 Accuracy 0.3199\n",
            "Epoch 10 Batch 150 Loss 3.9229 Accuracy 0.3206\n",
            "Epoch 10 Batch 200 Loss 3.9201 Accuracy 0.3209\n",
            "Epoch 10 Batch 250 Loss 3.9213 Accuracy 0.3206\n",
            "Epoch 10 Batch 300 Loss 3.9207 Accuracy 0.3207\n",
            "Epoch 10 Loss 3.9202 Accuracy 0.3206\n",
            "Time taken for 1 epoch: 88.89 secs\n",
            "\n",
            "Epoch 11 Batch 0 Loss 3.6516 Accuracy 0.3460\n",
            "Epoch 11 Batch 50 Loss 3.8391 Accuracy 0.3270\n",
            "Epoch 11 Batch 100 Loss 3.8203 Accuracy 0.3285\n",
            "Epoch 11 Batch 150 Loss 3.8267 Accuracy 0.3275\n",
            "Epoch 11 Batch 200 Loss 3.8184 Accuracy 0.3286\n",
            "Epoch 11 Batch 250 Loss 3.8136 Accuracy 0.3292\n",
            "Epoch 11 Loss 3.8133 Accuracy 0.3290\n",
            "Time taken for 1 epoch: 86.76 secs\n",
            "\n",
            "Epoch 12 Batch 0 Loss 3.7010 Accuracy 0.3422\n",
            "Epoch 12 Batch 50 Loss 3.7168 Accuracy 0.3350\n",
            "Epoch 12 Batch 100 Loss 3.7245 Accuracy 0.3338\n",
            "Epoch 12 Batch 150 Loss 3.7157 Accuracy 0.3356\n",
            "Epoch 12 Batch 200 Loss 3.7160 Accuracy 0.3360\n",
            "Epoch 12 Batch 250 Loss 3.7185 Accuracy 0.3357\n",
            "Epoch 12 Batch 300 Loss 3.7185 Accuracy 0.3359\n",
            "Epoch 12 Loss 3.7179 Accuracy 0.3360\n",
            "Time taken for 1 epoch: 87.01 secs\n",
            "\n",
            "Epoch 13 Batch 0 Loss 3.6390 Accuracy 0.3263\n",
            "Epoch 13 Batch 50 Loss 3.6132 Accuracy 0.3439\n",
            "Epoch 13 Batch 100 Loss 3.6222 Accuracy 0.3428\n",
            "Epoch 13 Batch 150 Loss 3.6242 Accuracy 0.3433\n",
            "Epoch 13 Batch 200 Loss 3.6289 Accuracy 0.3429\n",
            "Epoch 13 Batch 250 Loss 3.6277 Accuracy 0.3432\n",
            "Epoch 13 Batch 300 Loss 3.6349 Accuracy 0.3424\n",
            "Epoch 13 Loss 3.6349 Accuracy 0.3424\n",
            "Time taken for 1 epoch: 86.97 secs\n",
            "\n",
            "Epoch 14 Batch 0 Loss 3.5677 Accuracy 0.3620\n",
            "Epoch 14 Batch 50 Loss 3.5055 Accuracy 0.3535\n",
            "Epoch 14 Batch 100 Loss 3.5215 Accuracy 0.3520\n",
            "Epoch 14 Batch 150 Loss 3.5273 Accuracy 0.3516\n",
            "Epoch 14 Batch 200 Loss 3.5338 Accuracy 0.3513\n",
            "Epoch 14 Batch 250 Loss 3.5348 Accuracy 0.3512\n",
            "Epoch 14 Batch 300 Loss 3.5368 Accuracy 0.3513\n",
            "Epoch 14 Loss 3.5370 Accuracy 0.3513\n",
            "Time taken for 1 epoch: 86.68 secs\n",
            "\n",
            "Epoch 15 Batch 0 Loss 3.4541 Accuracy 0.3568\n",
            "Epoch 15 Batch 50 Loss 3.4296 Accuracy 0.3598\n",
            "Epoch 15 Batch 100 Loss 3.4210 Accuracy 0.3619\n",
            "Epoch 15 Batch 150 Loss 3.4251 Accuracy 0.3614\n",
            "Epoch 15 Batch 200 Loss 3.4274 Accuracy 0.3611\n",
            "Epoch 15 Batch 250 Loss 3.4293 Accuracy 0.3614\n",
            "Epoch 15 Batch 300 Loss 3.4381 Accuracy 0.3607\n",
            "Epoch 15 Loss 3.4383 Accuracy 0.3607\n",
            "Time taken for 1 epoch: 86.57 secs\n",
            "\n",
            "Epoch 16 Batch 0 Loss 3.3252 Accuracy 0.3683\n",
            "Epoch 16 Batch 50 Loss 3.3000 Accuracy 0.3737\n",
            "Epoch 16 Batch 100 Loss 3.3138 Accuracy 0.3724\n",
            "Epoch 16 Batch 150 Loss 3.3269 Accuracy 0.3713\n",
            "Epoch 16 Batch 200 Loss 3.3312 Accuracy 0.3714\n",
            "Epoch 16 Batch 250 Loss 3.3311 Accuracy 0.3718\n",
            "Epoch 16 Batch 300 Loss 3.3349 Accuracy 0.3711\n",
            "Epoch 16 Loss 3.3363 Accuracy 0.3710\n",
            "Time taken for 1 epoch: 89.09 secs\n",
            "\n",
            "Epoch 17 Batch 0 Loss 3.0846 Accuracy 0.3960\n",
            "Epoch 17 Batch 50 Loss 3.2246 Accuracy 0.3810\n",
            "Epoch 17 Batch 100 Loss 3.2271 Accuracy 0.3803\n",
            "Epoch 17 Batch 150 Loss 3.2300 Accuracy 0.3805\n",
            "Epoch 17 Batch 200 Loss 3.2432 Accuracy 0.3792\n",
            "Epoch 17 Batch 250 Loss 3.2468 Accuracy 0.3792\n",
            "Epoch 17 Batch 300 Loss 3.2517 Accuracy 0.3790\n",
            "Epoch 17 Loss 3.2520 Accuracy 0.3791\n",
            "Time taken for 1 epoch: 89.54 secs\n",
            "\n",
            "Epoch 18 Batch 0 Loss 3.1729 Accuracy 0.3839\n",
            "Epoch 18 Batch 50 Loss 3.1223 Accuracy 0.3936\n",
            "Epoch 18 Batch 100 Loss 3.1296 Accuracy 0.3924\n",
            "Epoch 18 Batch 150 Loss 3.1440 Accuracy 0.3906\n",
            "Epoch 18 Batch 200 Loss 3.1544 Accuracy 0.3898\n",
            "Epoch 18 Batch 250 Loss 3.1604 Accuracy 0.3889\n",
            "Epoch 18 Batch 300 Loss 3.1685 Accuracy 0.3879\n",
            "Epoch 18 Loss 3.1689 Accuracy 0.3879\n",
            "Time taken for 1 epoch: 87.77 secs\n",
            "\n",
            "Epoch 19 Batch 0 Loss 3.0007 Accuracy 0.4094\n",
            "Epoch 19 Batch 50 Loss 3.0391 Accuracy 0.4020\n",
            "Epoch 19 Batch 100 Loss 3.0555 Accuracy 0.3993\n",
            "Epoch 19 Batch 150 Loss 3.0652 Accuracy 0.3992\n",
            "Epoch 19 Batch 200 Loss 3.0742 Accuracy 0.3984\n",
            "Epoch 19 Batch 250 Loss 3.0871 Accuracy 0.3968\n",
            "Epoch 19 Loss 3.0935 Accuracy 0.3962\n",
            "Time taken for 1 epoch: 85.92 secs\n",
            "\n",
            "Epoch 20 Batch 0 Loss 3.0565 Accuracy 0.3989\n",
            "Epoch 20 Batch 50 Loss 2.9928 Accuracy 0.4070\n",
            "Epoch 20 Batch 100 Loss 2.9976 Accuracy 0.4061\n",
            "Epoch 20 Batch 150 Loss 3.0065 Accuracy 0.4049\n",
            "Epoch 20 Batch 200 Loss 3.0163 Accuracy 0.4042\n",
            "Epoch 20 Batch 250 Loss 3.0253 Accuracy 0.4032\n",
            "Epoch 20 Batch 300 Loss 3.0320 Accuracy 0.4026\n",
            "Epoch 20 Loss 3.0322 Accuracy 0.4026\n",
            "Time taken for 1 epoch: 87.08 secs\n",
            "\n"
          ]
        }
      ],
      "source": [
        "def train():\n",
        "    losses = []\n",
        "    acc = []\n",
        "    for epoch in range(EPOCHS):\n",
        "        start = time.time()\n",
        "\n",
        "        train_loss.reset_states()\n",
        "        train_accuracy.reset_states()\n",
        "        L = 0 \n",
        "        A = 0\n",
        "        i = 0\n",
        "        for (batch, (inp, tar)) in enumerate(train_batches):\n",
        "            train_step(inp, tar)\n",
        "\n",
        "            i+=1\n",
        "            L += train_loss.result()\n",
        "            A += train_accuracy.result()\n",
        "\n",
        "            if batch % 50 == 0:\n",
        "                print(f'Epoch {epoch + 1} Batch {batch} Loss {train_loss.result():.4f} Accuracy {train_accuracy.result():.4f}')\n",
        "\n",
        "        print(f'Epoch {epoch + 1} Loss {train_loss.result():.4f} Accuracy {train_accuracy.result():.4f}')\n",
        "        print(f'Time taken for 1 epoch: {time.time() - start:.2f} secs\\n')\n",
        "\n",
        "        losses.append(L/i)\n",
        "        acc.append(A/i) \n",
        "\n",
        "    return losses,acc \n",
        "\n",
        "results = train()\n",
        "        "
      ]
    },
    {
      "cell_type": "markdown",
      "metadata": {},
      "source": [
        "### Plot training loss & acc"
      ]
    },
    {
      "cell_type": "code",
      "execution_count": 36,
      "metadata": {},
      "outputs": [
        {
          "data": {
            "image/png": "[encoded data removed]",
            "text/plain": [
              "<Figure size 1296x432 with 2 Axes>"
            ]
          },
          "metadata": {},
          "output_type": "display_data"
        }
      ],
      "source": [
        "sns.set_style(\"darkgrid\")\n",
        "plt.rcParams[\"figure.figsize\"] = (18,6)\n",
        "plt.subplot(1,2,1)\n",
        "plt.plot(results[0])\n",
        "plt.xlabel(\"Epoch\")\n",
        "plt.xlim((-2,53))\n",
        "plt.ylim((0.5,8.8))\n",
        "plt.ylabel(\"Loss/Sparse Categorical Cross entropy\")\n",
        "plt.title(\"Loss/Epoch | Multi-head Attention: {0} | #layer: 6\".format(num_heads))\n",
        "\n",
        "plt.subplot(1,2,2)\n",
        "plt.plot(results[1],color=\"green\")\n",
        "plt.xlabel(\"Epoch\")\n",
        "plt.xlim((-2,53))\n",
        "plt.ylim((0,0.75))\n",
        "plt.ylabel(\"Accuracy\")\n",
        "plt.title(\"Loss/Prediction Accuracy | Multi-head Attention: {0} | #layer: 6\".format(num_heads))\n",
        "\n",
        "plt.tight_layout()\n",
        "plt.show()"
      ]
    },
    {
      "cell_type": "markdown",
      "metadata": {},
      "source": [
        "# Translation"
      ]
    },
    {
      "cell_type": "code",
      "execution_count": 24,
      "metadata": {
        "id": "YMkS5b_k8thZ"
      },
      "outputs": [],
      "source": [
        "class Translator(tf.Module):\n",
        "    def __init__(self, tokenizers, transformer):\n",
        "        self.tokenizers = tokenizers\n",
        "        self.transformer = transformer\n",
        "\n",
        "    def __call__(self, sentence, max_length=MAX_TOKENS):\n",
        "        assert isinstance(sentence, tf.Tensor)\n",
        "        if len(sentence.shape) == 0:\n",
        "            sentence = sentence[tf.newaxis]\n",
        "\n",
        "        sentence = self.tokenizers.pt.tokenize(sentence).to_tensor()\n",
        "\n",
        "        encoder_input = sentence\n",
        "\n",
        "        start_end = self.tokenizers.en.tokenize([''])[0]\n",
        "        start = start_end[0][tf.newaxis]\n",
        "        end = start_end[1][tf.newaxis]\n",
        "\n",
        "        output_array = tf.TensorArray(dtype=tf.int64, size=0, dynamic_size=True)\n",
        "        output_array = output_array.write(0, start)\n",
        "        \n",
        "        for i in tf.range(max_length):\n",
        "            output = tf.transpose(output_array.stack())\n",
        "            predictions, _ = self.transformer([encoder_input, output], training=False)\n",
        "            predictions = predictions[:, -1:, :]  \n",
        "            predicted_id = tf.argmax(predictions, axis=-1)\n",
        "            output_array = output_array.write(i+1, predicted_id[0])\n",
        "\n",
        "            if predicted_id == end:\n",
        "                break\n",
        "            \n",
        "        output = tf.transpose(output_array.stack())\n",
        "        text = tokenizers.en.detokenize(output)[0]  # shape: ()\n",
        "        tokens = tokenizers.en.lookup(output)[0]\n",
        "        _, attention_weights = self.transformer([encoder_input, output[:,:-1]], training=False)\n",
        "        return text, tokens, attention_weights\n",
        "\n",
        "translator = Translator(tokenizers, transformer)"
      ]
    },
    {
      "cell_type": "markdown",
      "metadata": {},
      "source": [
        "# Attention heatmap and prediction"
      ]
    },
    {
      "cell_type": "code",
      "execution_count": 25,
      "metadata": {
        "id": "EVsQ9pgV8tha"
      },
      "outputs": [],
      "source": [
        "def print_translation(sentence, tokens, ground_truth):\n",
        "    print(f'{\"Input:\":15s}: {sentence}')\n",
        "    print(f'{\"Prediction\":15s}: {tokens.numpy().decode(\"utf-8\")}')\n",
        "    print(f'{\"Ground truth\":15s}: {ground_truth}')\n",
        "    "
      ]
    },
    {
      "cell_type": "code",
      "execution_count": 26,
      "metadata": {
        "id": "uJ2iGNEe8tha",
        "outputId": "d68faec0-3b25-428f-f109-32cfee32cf0c"
      },
      "outputs": [
        {
          "name": "stdout",
          "output_type": "stream",
          "text": [
            "Input:         : é algo que nos acontece sem o nosso consentimento .\n",
            "Prediction     : it ' s something that we can do with our emotions .\n",
            "Ground truth   : it 's something that happens to us without our consent .\n"
          ]
        }
      ],
      "source": [
        "sentence = \"\"\"é algo que nos acontece sem o nosso consentimento .\"\"\"\n",
        "ground_truth = \"\"\"it 's something that happens to us without our consent .\"\"\"\n",
        "\n",
        "translated_text, translated_tokens, attention_weights = translator(\n",
        "    tf.constant(sentence))\n",
        "print_translation(sentence, translated_text, ground_truth)"
      ]
    },
    {
      "cell_type": "code",
      "execution_count": 27,
      "metadata": {
        "id": "SkIYzDne8thi"
      },
      "outputs": [],
      "source": [
        "def plot_attention_head(in_tokens, translated_tokens, attention):\n",
        "    translated_tokens = translated_tokens[1:]\n",
        "    ax = plt.gca()\n",
        "    \n",
        "    ax.matshow(attention,cmap =\"cool\")\n",
        "    ax.set_xticks(range(len(in_tokens)))\n",
        "    ax.set_yticks(range(len(translated_tokens)))\n",
        "    labels = [label.decode('utf-8') for label in in_tokens.numpy()]\n",
        "    ax.set_xticklabels(\n",
        "        labels, rotation=90)\n",
        "    labels = [label.decode('utf-8') for label in translated_tokens.numpy()]\n",
        "    ax.set_yticklabels(labels)\n"
      ]
    },
    {
      "cell_type": "code",
      "execution_count": 28,
      "metadata": {},
      "outputs": [
        {
          "data": {
            "image/png": "[encoded data removed]",
            "text/plain": [
              "<Figure size 1008x2016 with 8 Axes>"
            ]
          },
          "metadata": {},
          "output_type": "display_data"
        }
      ],
      "source": [
        "def plot_attention_weights(sentence, translated_tokens, attention_heads):\n",
        "    in_tokens = tf.convert_to_tensor([sentence])\n",
        "    in_tokens = tokenizers.pt.tokenize(in_tokens).to_tensor()\n",
        "    in_tokens = tokenizers.pt.lookup(in_tokens)[0]\n",
        "    in_tokens\n",
        "\n",
        "    fig = plt.figure(figsize=(14, 28))\n",
        "    \n",
        "    for h, head in enumerate(attention_heads):\n",
        "        ax = fig.add_subplot(num_heads//2, 2, h+1)\n",
        "\n",
        "        plot_attention_head(in_tokens, translated_tokens, head)\n",
        "\n",
        "        ax.set_xlabel(f'Head {h+1}')\n",
        "\n",
        "    plt.tight_layout()\n",
        "    plt.show()\n",
        "\n",
        "sns.set_style(\"dark\")\n",
        "plot_attention_weights(sentence, translated_tokens,attention_weights['decoder_layer6_block2'][0])"
      ]
    },
    {
      "cell_type": "markdown",
      "metadata": {},
      "source": [
        "### Sample translation"
      ]
    },
    {
      "cell_type": "code",
      "execution_count": 29,
      "metadata": {},
      "outputs": [
        {
          "name": "stdout",
          "output_type": "stream",
          "text": [
            "\n",
            "Test Sample #1 <==========================\n",
            "Input:         : depois , podem fazer-se e testar-se previsões .\n",
            "Prediction     : and you can do that , and you can get it .\n",
            "Ground truth   : then , predictions can be made and tested .\n",
            "\n",
            "Test Sample #2 <==========================\n",
            "Input:         : forçou a parar múltiplos laboratórios que ofereciam testes brca .\n",
            "Prediction     : it would have been able to take the lab with the bills to get out of the lab .\n",
            "Ground truth   : it had forced multiple labs that were offering brca testing to stop .\n",
            "\n",
            "Test Sample #3 <==========================\n",
            "Input:         : as formigas são um exemplo clássico ; as operárias trabalham para as rainhas e vice-versa .\n",
            "Prediction     : the u . s . , the u . s . , and the example is the same as accomplishments .\n",
            "Ground truth   : ants are a classic example ; workers work for queens and queens work for workers .\n",
            "\n",
            "Test Sample #4 <==========================\n",
            "Input:         : uma em cada cem crianças no mundo nascem com uma doença cardíaca .\n",
            "Prediction     : each one of us in a room with a mobile phone .\n",
            "Ground truth   : one of every hundred children born worldwide has some kind of heart disease .\n",
            "\n",
            "Test Sample #5 <==========================\n",
            "Input:         : neste momento da sua vida , ela está a sofrer de sida no seu expoente máximo e tinha pneumonia .\n",
            "Prediction     : and in my life , this treatment was a lot of pain and the pain of aids .\n",
            "Ground truth   : at this point in her life , she 's suffering with full-blown aids and had pneumonia .\n",
            "\n",
            "Test Sample #6 <==========================\n",
            "Input:         : onde estão as redes económicas ?\n",
            "Prediction     : what are the cities of the networks ?\n",
            "Ground truth   : where are economic networks ?\n",
            "\n",
            "Test Sample #7 <==========================\n",
            "Input:         : ( aplausos )\n",
            "Prediction     : ( applause )\n",
            "Ground truth   : ( applause )\n",
            "\n",
            "Test Sample #8 <==========================\n",
            "Input:         : eu usei os contentores de transporte , e também os alunos ajudaram-nos a fazer toda a mobília dos edifícios , para torná-los confortáveis​​ , dentro do orçamento do governo , mas também com a mesma a área da casa , mas muito mais confortável .\n",
            "Prediction     : i also need to use the same social network , but also to make the same decisions , to make the same activities , the same building , the same building , the same building , the same building , the same building , the same building , the same building blocks , the same building , the buildings , the same building , the same building , the same building .\n",
            "Ground truth   : i used the shipping container and also the students helped us to make all the building furniture to make them comfortable , within the budget of the government but also the area of the house is exactly the same , but much more comfortable .\n",
            "\n",
            "Test Sample #9 <==========================\n",
            "Input:         : e , no entanto , a ironia é que a única maneira de podermos fazer qualquer coisa nova é dar um passo nessa direção .\n",
            "Prediction     : and the reason that we can do is to make a new part of this , and we can do that , because we can do something more .\n",
            "Ground truth   : and yet , the irony is , the only way we can ever do anything new is to step into that space .\n",
            "\n",
            "Test Sample #10 <==========================\n",
            "Input:         : a luz nunca desaparece .\n",
            "Prediction     : light does n ' t stop .\n",
            "Ground truth   : the light never goes out .\n",
            "\n",
            "Test Sample #11 <==========================\n",
            "Input:         : `` agora , `` '' tweets '' '' , quem está a `` '' tweetar '' '' ? ''\n",
            "Prediction     : now , in the middle of the art , i ' m a jewelebully .\n",
            "Ground truth   : now , tweets , who 's tweeting ?\n",
            "\n",
            "Test Sample #12 <==========================\n",
            "Input:         : no egito , por exemplo , 91 % das mulheres que vivem hoje no egito foram mutiladas sexualmente dessa forma .\n",
            "Prediction     : in the last few years , i ' m in the middle of the middle of the united states , and i ' m in the middle of the united states .\n",
            "Ground truth   : in egypt , for instance , 91 percent of all the females that live in egypt today have been sexually mutilated in that way .\n",
            "\n",
            "Test Sample #13 <==========================\n",
            "Input:         : por outro lado , os bebés de 15 meses ficavam a olhar para ela durante muito tempo caso ela agisse como se preferisse os brócolos , como se não percebessem a situação .\n",
            "Prediction     : in the same way , the third treatment , the carry of the car , the children , the same treatment , because they ' re not going to be able to get to get a look at the same time .\n",
            "Ground truth   : on the other hand , 15 month-olds would stare at her for a long time if she acted as if she liked the broccoli , like they could n't figure this out .\n",
            "\n",
            "Test Sample #14 <==========================\n",
            "Input:         : naquele momento , percebi quanta energia negativa é precisa para conservar aquele ódio dentro de nós .\n",
            "Prediction     : and that time i ' m going to make sure that the power of the future , the power of the matter that we can do .\n",
            "Ground truth   : in that instant , i realized how much negative energy it takes to hold that hatred inside of you .\n",
            "\n",
            "Test Sample #15 <==========================\n",
            "Input:         : e a discussão é : o que é que isso interessa .\n",
            "Prediction     : and the question is : that ' s what it ' s constantly .\n",
            "Ground truth   : and the discussion is , who cares ? right ?\n",
            "\n",
            "Test Sample #16 <==========================\n",
            "Input:         : se escolhermos um lugar e formos cuidadosos , as coisas estarão sempre lá quando as procurarmos .\n",
            "Prediction     : if you ' re in a moment , you ' re going to be able to make it , and you ' re not going to make it .\n",
            "Ground truth   : if you designate a spot and you 're scrupulous about it , your things will always be there when you look for them .\n",
            "\n",
            "Test Sample #17 <==========================\n",
            "Input:         : é um museu muito popular agora , e criei um grande monumento para o governo .\n",
            "Prediction     : and one of the most recently - called a - tech , and i was a very brilliant institution .\n",
            "Ground truth   : it 's a very popular museum now , and i created a big monument for the government .\n",
            "\n",
            "Test Sample #18 <==========================\n",
            "Input:         : é completamente irrelevante .\n",
            "Prediction     : it ' s completely completely unscreed .\n",
            "Ground truth   : it 's completely irrelevant .\n",
            "\n",
            "Test Sample #19 <==========================\n",
            "Input:         : todos defenderam que a sua técnica era a melhor , mas nenhum deles tinha a certeza disso e admitiram-no .\n",
            "Prediction     : people were told that the same was the same , but the only thing was the same was the only thing that they were .\n",
            "Ground truth   : `` they all argued that , `` '' my technique is the best , '' '' but none of them actually knew , and they admitted that . ''\n",
            "\n",
            "Test Sample #20 <==========================\n",
            "Input:         : a partir daquele momento , comecei a pensar .\n",
            "Prediction     : and in this moment , i started thinking about this .\n",
            "Ground truth   : at that moment , i started thinking .\n",
            "\n",
            "Test Sample #21 <==========================\n",
            "Input:         : mt : portanto , aqui temos a maré baixa e aqui a maré alta e no centro temos a lua .\n",
            "Prediction     : ( applause ) so in the end of the earth , we have to go back and go down and see the earth .\n",
            "Ground truth   : mt : so over here is low tide , and over here is high tide , and in the middle is the moon .\n",
            "\n",
            "Test Sample #22 <==========================\n",
            "Input:         : então , este jogo é muito simples .\n",
            "Prediction     : so this is a very interesting example .\n",
            "Ground truth   : beau lotto : so , this game is very simple .\n",
            "\n",
            "Test Sample #23 <==========================\n",
            "Input:         : então , propus a reconstrução . angariei , recolhi fundos .\n",
            "Prediction     : so i started to work with the fragnos .\n",
            "Ground truth   : so i proposed to rebuild . i raised — did fundraising .\n",
            "\n",
            "Test Sample #24 <==========================\n",
            "Input:         : o que nós - betty rapacholi , minha aluna , e eu - fizemos foi dar aos bebés dois pratos de comida : um prato com brócolos crus e um com bolachas deliciosas em forma de peixinho .\n",
            "Prediction     : so the first thing we did was to do was to get a little bit of a little bit of the charriz and the man , and then i was able to get the two - second - day - baker , and i was able to get a little bitten and get a little bitten .\n",
            "Ground truth   : what we did — betty rapacholi , who was one of my students , and i — was actually to give the babies two bowls of food : one bowl of raw broccoli and one bowl of delicious goldfish crackers .\n",
            "\n",
            "Test Sample #25 <==========================\n",
            "Input:         : é algo que nos acontece sem o nosso consentimento .\n",
            "Prediction     : it ' s something that we can do with our emotions .\n",
            "Ground truth   : it 's something that happens to us without our consent .\n",
            "\n",
            "Test Sample #26 <==========================\n",
            "Input:         : ardemos de paixão .\n",
            "Prediction     : we play passion .\n",
            "Ground truth   : we burn with passion .\n",
            "\n",
            "Test Sample #27 <==========================\n",
            "Input:         : `` a mutilação genital é horrível , e desconhecida pelas mulheres americanas . mas , nalguns países , em muitos países , quando uma menina nasce , muito cedo na sua vida , os seus genitais são completamente removidos por um chamado `` '' cortador '' '' que , com uma lâmina de navalha , sem recurso à esterilização , corta as partes exteriores dos genitais femininos . ''\n",
            "Prediction     : ` ` the other one is the same as abrahampion , but the ` ` ' ' the zibrophi , ' ' ' ' and in the middle of the world , the men are in the middle of the middle of the middle of the world , and the men are in the most likely to be arrangeduction of the most dangerous , and the most importantly , and the most importantly , the most importantly , the most common - called the gransical , and the two people , the grank of the gransibility of the gloomank of\n",
            "Ground truth   : genital mutilation is horrible and not known by american women , but in some countries , many countries , when a child is born that 's a girl , very soon in her life , her genitals are completely cut away by a so-called cutter who has a razor blade and , in a non-sterilized way , they remove the exterior parts of a woman 's genitalia .\n",
            "\n",
            "Test Sample #28 <==========================\n",
            "Input:         : isto significa 20 % do orçamento , do orçamento relativo a cuidados de saúde do país .\n",
            "Prediction     : this is the best example of the american health , in the united states .\n",
            "Ground truth   : that 's 20 percent of the budget , of the healthcare budget of the country .\n",
            "\n",
            "Test Sample #29 <==========================\n",
            "Input:         : conheci-o num evento 46664 .\n",
            "Prediction     : i found a 13 - year - old - old - 13 - old - 13 - year - old .\n",
            "Ground truth   : i met him at a 46664 event .\n",
            "\n",
            "Test Sample #30 <==========================\n",
            "Input:         : deixem-me mostrar-vos o que quero dizer .\n",
            "Prediction     : let me show you what i ' m going to do .\n",
            "Ground truth   : let me show you what i mean .\n",
            "\n",
            "Test Sample #31 <==========================\n",
            "Input:         : acho que este é o problema .\n",
            "Prediction     : and i think this is the problem .\n",
            "Ground truth   : i think this is a problem .\n",
            "\n",
            "Test Sample #32 <==========================\n",
            "Input:         : mt : oh , 365 , o número de dias num ano , o número de dias entre cada aniversário .\n",
            "Prediction     : mt : a few years ago , the average , the average number of people in the world , and the last two .\n",
            "Ground truth   : mt : oh , 365 , the number of days in a year , the number of days between each birthday .\n",
            "\n",
            "Test Sample #33 <==========================\n",
            "Input:         : como disse peter lavine , o ser humano é um ser único habilitado com uma capacidade instintiva para curar e com o espírito intelectual para manter esta capacidade inata .\n",
            "Prediction     : ` ` as a result of the ` ` ' ' the utility ' ' ' ' and the idea is that the only person in the end of the state is a provisional and accomplishment of a provision . ' '\n",
            "Ground truth   : as peter levine has said , the human animal is a unique being endowed with an instinctual capacity to heal and the intellectual spirit to harness this innate capacity .\n",
            "\n",
            "Test Sample #34 <==========================\n",
            "Input:         : o cortisol é tóxico e tolda-nos o pensamento .\n",
            "Prediction     : the envelope and the encom is a cynic .\n",
            "Ground truth   : cortisol is toxic , and it causes cloudy thinking .\n",
            "\n",
            "Test Sample #35 <==========================\n",
            "Input:         : e às vezes , em casos mais extremos , mas não muito raros , eles costuram o orifício para que a menina possa apenas urinar ou menstruar .\n",
            "Prediction     : and in fact , even many of them , they ' re not just the same , but they ' re very familiar with the geophor , but they ' re not just a little bit of a little bit of accomplishment .\n",
            "Ground truth   : and sometimes , in more extreme cases but not very rare cases , they sew the orifice up so the girl can just urinate or menstruate .\n",
            "\n",
            "Test Sample #36 <==========================\n",
            "Input:         : há sempre vestígios — não há nenhum crime perfeito .\n",
            "Prediction     : there ' s no excuse , no , no , no .\n",
            "Ground truth   : there are always traces — no such thing as a perfect crime .\n",
            "\n",
            "Test Sample #37 <==========================\n",
            "Input:         : `` `` '' vai procurá-la atrás das montanhas . ''\n",
            "Prediction     : you see the green duck .\n",
            "Ground truth   : go and look behind the mountains .\n",
            "\n",
            "Test Sample #38 <==========================\n",
            "Input:         : ambos , adam e oz , pouparam uma hora .\n",
            "Prediction     : he ' s a little bit , and he ' s going to be a third .\n",
            "Ground truth   : adam and oz both saved an hour of time .\n",
            "\n",
            "Test Sample #39 <==========================\n",
            "Input:         : claro que não ! têm que treinar 24/7 .\n",
            "Prediction     : it ' s not going to be 45 , 000 .\n",
            "Ground truth   : of course not ! you 've got to practice 24/7 .\n",
            "\n",
            "Test Sample #40 <==========================\n",
            "Input:         : logo a seguir , encontrei outra foto minha .\n",
            "Prediction     : so in my office , i looked at my eye .\n",
            "Ground truth   : soon after that , i found in another picture that she had , a picture of me .\n",
            "\n",
            "Test Sample #41 <==========================\n",
            "Input:         : portanto , pensei , temos a fórmula pronta .\n",
            "Prediction     : so i thought , well , we did a lot of research .\n",
            "Ground truth   : so i was like , okay , so we 've got the formula ready .\n",
            "\n",
            "Test Sample #42 <==========================\n",
            "Input:         : parafraseando chavez , uma vez iniciada uma mudança social , esta não pode ser revertida .\n",
            "Prediction     : in the case , the social capital system is to make a sense , it ' s not a very hard - to - change .\n",
            "Ground truth   : to paraphrase chavez , once social change begins , it can not be reversed .\n",
            "\n",
            "Test Sample #43 <==========================\n",
            "Input:         : neste vídeo , podemos ver como um cateter muito fino leva a bobina até ao coração .\n",
            "Prediction     : and here you can see the diagram , the next example of the mouse , and the device that you can see in the cage .\n",
            "Ground truth   : in this video , we can see how a very tiny catheter takes the coil to the heart .\n",
            "\n",
            "Test Sample #44 <==========================\n",
            "Input:         : e já agora , aquele café , aquele maravilhoso café que tomaram lá em baixo , na verdade imita o efeito dos neurotransmissores dos bebés .\n",
            "Prediction     : and in fact , i ' m going to be able to get a little bit of the brain , and that ' s the same thing that i ' m going to have to be able to get on the needle , the needler .\n",
            "Ground truth   : and by the way , that coffee , that wonderful coffee you 've been drinking downstairs , actually mimics the effect of those baby neurotransmitters .\n",
            "\n",
            "Test Sample #45 <==========================\n",
            "Input:         : eles têm dinheiro e poder .\n",
            "Prediction     : they ' re free . they ' re needed .\n",
            "Ground truth   : they have money and power .\n",
            "\n",
            "Test Sample #46 <==========================\n",
            "Input:         : eu não sou o meu pai .\n",
            "Prediction     : i ' m not my dad .\n",
            "Ground truth   : i am not my father .\n",
            "\n",
            "Test Sample #47 <==========================\n",
            "Input:         : e isso afeta-nos a todos .\n",
            "Prediction     : and that ' s all about us .\n",
            "Ground truth   : and that affects all of us .\n",
            "\n",
            "Test Sample #48 <==========================\n",
            "Input:         : a este respeito , para membros da sociedade , não há maior honra ou privilégio do que facilitar o processo de cura de alguém , testemunhar , de estender uma mão , de partilhar o fardo do sofrimento de alguém , e de manter a esperança da sua recuperação .\n",
            "Prediction     : the idea is that the greatest government of violence , the violence , the one that we have to fight , to make a sense of the violence , the violence , the violence , the less , the less , the less , the less , the less , the less , the less , the less violence , and the less violence , the people that we do n ' t have .\n",
            "Ground truth   : in this respect , for members of society , there is no greater honor or privilege than facilitating that process of healing for someone , to bear witness , to reach out a hand , to share the burden of someone 's suffering , and to hold the hope for their recovery .\n",
            "\n",
            "Test Sample #49 <==========================\n",
            "Input:         : sabemos mais do que eles ?\n",
            "Prediction     : you know what ?\n",
            "Ground truth   : do we know better than them ?\n",
            "\n",
            "Test Sample #50 <==========================\n",
            "Input:         : ( risos ) parece-me que todos vocês são tocs , astrofísicos e ultramaratonistas .\n",
            "Prediction     : ( laughter ) so i mean , i ' m a cybercrres of the grannial .\n",
            "Ground truth   : ( laughter ) you 're all cfo , astrophysicists , ultra-marathoners , it turns out .\n"
          ]
        }
      ],
      "source": [
        "Index = 1\n",
        "for test in test_examples.take(50):\n",
        "    print(f\"\\nTest Sample #{Index} <==========================\")\n",
        "    pt = test[0].numpy().decode(\"utf-8\")\n",
        "    en = test[1].numpy().decode(\"utf-8\")\n",
        "    translated_text, translated_tokens, attention_weights = translator(\n",
        "        tf.constant(pt))\n",
        "    print_translation(pt, translated_text, en)\n",
        "    Index += 1"
      ]
    },
    {
      "cell_type": "code",
      "execution_count": null,
      "metadata": {},
      "outputs": [],
      "source": []
    },
    {
      "cell_type": "code",
      "execution_count": null,
      "metadata": {},
      "outputs": [],
      "source": []
    }
  ],
  "metadata": {
    "accelerator": "GPU",
    "colab": {
      "collapsed_sections": [],
      "name": "source.ipynb",
      "provenance": []
    },
    "gpuClass": "standard",
    "kernelspec": {
      "display_name": "Python 3.9.12 ('tensorflow_env')",
      "language": "python",
      "name": "python3"
    },
    "language_info": {
      "codemirror_mode": {
        "name": "ipython",
        "version": 3
      },
      "file_extension": ".py",
      "mimetype": "text/x-python",
      "name": "python",
      "nbconvert_exporter": "python",
      "pygments_lexer": "ipython3",
      "version": "3.9.12"
    },
    "orig_nbformat": 4,
    "vscode": {
      "interpreter": {
        "hash": "ce6d309b248411180cac74827c3e3a782bdc72ca202897ccb8c0b7be54b71135"
      }
    }
  },
  "nbformat": 4,
  "nbformat_minor": 0
}
